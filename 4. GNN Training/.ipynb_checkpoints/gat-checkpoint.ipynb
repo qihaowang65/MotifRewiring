{
 "cells": [
  {
   "cell_type": "code",
   "execution_count": 1,
   "metadata": {},
   "outputs": [],
   "source": [
    "import torch\n",
    "from torch.nn import Linear\n",
    "from torch_geometric.nn import GATConv\n",
    "import torch.nn.functional as F \n",
    "import numpy as np \n",
    "import pickle"
   ]
  },
  {
   "cell_type": "code",
   "execution_count": 2,
   "metadata": {},
   "outputs": [
    {
     "data": {
      "text/plain": [
       "<torch._C.Generator at 0x7f806476de50>"
      ]
     },
     "execution_count": 2,
     "metadata": {},
     "output_type": "execute_result"
    }
   ],
   "source": [
    "torch.manual_seed(1234)"
   ]
  },
  {
   "cell_type": "code",
   "execution_count": 3,
   "metadata": {},
   "outputs": [],
   "source": [
    "class DataLoad():\n",
    "    def __init__(self,file,feature=False):\n",
    "        with open(file+'.train','rb') as fp:\n",
    "            self.n_class,train_mask = pickle.load(fp)\n",
    "        self.train_mask = torch.tensor(train_mask,dtype=torch.bool)\n",
    "        self.n_node = len(self.train_mask)\n",
    "        with open(file+'.labels','r+') as fp:\n",
    "            lines = fp.readlines()\n",
    "        self.y = []\n",
    "        for each in lines:\n",
    "            info = each.split(' ')\n",
    "            label = info[1]\n",
    "            self.y.append(int(label))\n",
    "        self.y = torch.tensor(self.y,dtype=torch.long)\n",
    "        if feature == False:\n",
    "            self.x = np.zeros((self.n_node,self.n_node))\n",
    "            for i in range(self.n_node):\n",
    "                self.x[i][i] = 1\n",
    "            self.x = torch.tensor(self.x,dtype=torch.float)\n",
    "            self.n_feature = self.n_node\n",
    "        else:\n",
    "            with open(file+'.feat','rb') as fp:\n",
    "                self.x = torch.tensor(pickle.load(fp),dtype=torch.float)\n",
    "            self.n_feature = len(self.x[0])\n",
    "            \n",
    "        self.test = []\n",
    "        for i in range(self.n_node):\n",
    "            if self.train_mask[i] == False:\n",
    "                self.test.append(i)\n",
    "    \n",
    "    def AppendDummy(self,m):\n",
    "        to_add = torch.tensor([False for _ in range(m)],dtype=torch.bool)\n",
    "        self.train_mask = torch.cat((self.train_mask,to_add))\n",
    "        temp = []\n",
    "        for _ in range(m):\n",
    "            temp.append([0 for _ in range(self.n_feature)])\n",
    "        temp = torch.tensor(temp,dtype=torch.float)\n",
    "        self.x = torch.cat((self.x,temp))\n",
    "        to_add = torch.tensor([-1 for _ in range(m)],dtype=torch.long)\n",
    "        self.y = torch.cat((self.y,to_add))"
   ]
  },
  {
   "cell_type": "code",
   "execution_count": 4,
   "metadata": {},
   "outputs": [],
   "source": [
    "def EdgeLoader(file):\n",
    "    with open(file,'r+') as fp:\n",
    "        lines = fp.readlines()\n",
    "    ret = []\n",
    "    for each in lines:\n",
    "        info = each.split(' ')\n",
    "        src = int(info[0])\n",
    "        dst = int(info[1])\n",
    "        ret.append([src,dst])\n",
    "    ret = np.array(ret)\n",
    "    return torch.tensor(ret.T,dtype=torch.int)"
   ]
  },
  {
   "cell_type": "code",
   "execution_count": 5,
   "metadata": {},
   "outputs": [],
   "source": [
    "class GAT(torch.nn.Module):\n",
    "    def __init__(self,DataLoader):\n",
    "        super(GAT, self).__init__()\n",
    "        self.conv1 = GATConv(DataLoader.n_feature, int(DataLoader.n_feature/8),heads=4,dropout=0.1)\n",
    "        self.conv2 = GATConv(int(DataLoader.n_feature/8)*4, int(DataLoader.n_feature/8),heads=1,dropout=0.1)\n",
    "        self.classifier = Linear(int(DataLoader.n_feature/8), DataLoader.n_class)\n",
    "\n",
    "    def forward(self, x, edge_index):\n",
    "        h = self.conv1(x, edge_index)\n",
    "        h = F.relu(h)\n",
    "        h = self.conv2(h, edge_index)\n",
    "        h = F.relu(h)  \n",
    "        out = self.classifier(h)\n",
    "        return out\n"
   ]
  },
  {
   "cell_type": "code",
   "execution_count": 6,
   "metadata": {},
   "outputs": [],
   "source": [
    "def TrainAllModel(file):\n",
    "    loader = DataLoad(file)\n",
    "    suffix = ['.mtx','_relwire.txt','_swing.txt','_er.txt','_away.txt']\n",
    "    criterion = torch.nn.CrossEntropyLoss()\n",
    "    for each in suffix:\n",
    "        edge_file = file + each\n",
    "        out_file = edge_file.split('.')[0] + '_gat.pt'\n",
    "        model = GAT(loader)\n",
    "        edge_index = EdgeLoader(edge_file)\n",
    "        optimizer = torch.optim.Adam(model.parameters(), lr=0.005)\n",
    "        for _ in range(50):\n",
    "            optimizer.zero_grad()  # Clear gradients.\n",
    "            out = model(loader.x, edge_index)  # Perform a single forward pass.\n",
    "            loss = criterion(out[loader.train_mask], loader.y[loader.train_mask])  # Compute the loss solely based on the training nodes.\n",
    "            loss.backward()  # Derive gradients.\n",
    "            optimizer.step()  # Update parameters based on gradients.\n",
    "            torch.save(model.state_dict(), out_file)    "
   ]
  },
  {
   "cell_type": "code",
   "execution_count": 7,
   "metadata": {},
   "outputs": [],
   "source": [
    "def EvaluateModel(loader,edge_file):\n",
    "    model = GAT(loader)\n",
    "    edge_index = EdgeLoader(edge_file)\n",
    "    model_name = edge_file.split('.')[0] + '_gat.pt'\n",
    "    model.load_state_dict(torch.load(model_name))\n",
    "    out = model(loader.x,edge_index).detach().numpy()\n",
    "    total = len(loader.test)\n",
    "    correct = 0\n",
    "    for each in loader.test:\n",
    "        idx = np.argmax(out[each])\n",
    "        if idx == loader.y[each]:\n",
    "            correct += 1\n",
    "    score = correct/total \n",
    "    return score\n",
    "    "
   ]
  },
  {
   "cell_type": "code",
   "execution_count": 8,
   "metadata": {},
   "outputs": [],
   "source": [
    "def TestAllModel(file):\n",
    "    loader = DataLoad(file)\n",
    "    suffix = ['.mtx','_relwire.txt','_swing.txt','_er.txt','_away.txt']\n",
    "    for each in suffix:\n",
    "        edge_file = file + each\n",
    "        score = EvaluateModel(loader,edge_file)\n",
    "        print('The accuracy of model in graph ' + edge_file + ' is ' + str(score))"
   ]
  },
  {
   "cell_type": "code",
   "execution_count": 9,
   "metadata": {},
   "outputs": [],
   "source": [
    "def TrainAndTest(file):\n",
    "    TrainAllModel(file)\n",
    "    TestAllModel(file)"
   ]
  },
  {
   "cell_type": "code",
   "execution_count": 17,
   "metadata": {},
   "outputs": [
    {
     "name": "stdout",
     "output_type": "stream",
     "text": [
      "The accuracy of model in graph book.mtx is 0.8157894736842105\n",
      "The accuracy of model in graph book_relwire.txt is 0.6842105263157895\n",
      "The accuracy of model in graph book_swing.txt is 0.8026315789473685\n",
      "The accuracy of model in graph book_er.txt is 0.8289473684210527\n",
      "The accuracy of model in graph book_away.txt is 0.8289473684210527\n"
     ]
    }
   ],
   "source": [
    "TrainAndTest('book')"
   ]
  },
  {
   "cell_type": "code",
   "execution_count": 18,
   "metadata": {},
   "outputs": [
    {
     "name": "stdout",
     "output_type": "stream",
     "text": [
      "The accuracy of model in graph football.mtx is 0.8\n",
      "The accuracy of model in graph football_relwire.txt is 0.8470588235294118\n",
      "The accuracy of model in graph football_swing.txt is 0.8588235294117647\n",
      "The accuracy of model in graph football_er.txt is 0.8588235294117647\n",
      "The accuracy of model in graph football_away.txt is 0.7294117647058823\n"
     ]
    }
   ],
   "source": [
    "TrainAndTest('football')"
   ]
  },
  {
   "cell_type": "code",
   "execution_count": 19,
   "metadata": {},
   "outputs": [
    {
     "name": "stdout",
     "output_type": "stream",
     "text": [
      "The accuracy of model in graph karate.mtx is 0.96\n",
      "The accuracy of model in graph karate_relwire.txt is 0.52\n",
      "The accuracy of model in graph karate_swing.txt is 0.96\n",
      "The accuracy of model in graph karate_er.txt is 1.0\n",
      "The accuracy of model in graph karate_away.txt is 0.72\n"
     ]
    }
   ],
   "source": [
    "TrainAndTest('karate')"
   ]
  },
  {
   "cell_type": "code",
   "execution_count": 9,
   "metadata": {},
   "outputs": [],
   "source": [
    "import glob "
   ]
  },
  {
   "cell_type": "code",
   "execution_count": 23,
   "metadata": {},
   "outputs": [],
   "source": [
    "all_motifs = glob.glob('MotifGraph/*.txt')\n",
    "criterion = torch.nn.CrossEntropyLoss()\n",
    "for each in all_motifs:\n",
    "    file = each.split('/')[1].split('_')[0]\n",
    "    loader = DataLoad(file)\n",
    "    out_file = each.split('.tx')[0] + '_gat.pt'\n",
    "    model = GAT(loader)\n",
    "    edge_index = EdgeLoader(each)\n",
    "    optimizer = torch.optim.Adam(model.parameters(), lr=0.005)\n",
    "    for _ in range(50):\n",
    "        optimizer.zero_grad()  # Clear gradients.\n",
    "        out = model(loader.x, edge_index)  # Perform a single forward pass.\n",
    "        loss = criterion(out[loader.train_mask], loader.y[loader.train_mask])  # Compute the loss solely based on the training nodes.\n",
    "        loss.backward()  # Derive gradients.\n",
    "        optimizer.step()  # Update parameters based on gradients.\n",
    "        torch.save(model.state_dict(), out_file)    \n",
    "    "
   ]
  },
  {
   "cell_type": "code",
   "execution_count": 10,
   "metadata": {},
   "outputs": [],
   "source": [
    "def EvaluateModel(loader,edge_file):\n",
    "    model = GAT(loader)\n",
    "    edge_index = EdgeLoader(edge_file)\n",
    "    model_name = edge_file.split('.tx')[0] + '_gat.pt'\n",
    "    model.load_state_dict(torch.load(model_name))\n",
    "    out = model(loader.x,edge_index).detach().numpy()\n",
    "    total = len(loader.test)\n",
    "    correct = 0\n",
    "    for each in loader.test:\n",
    "        idx = np.argmax(out[each])\n",
    "        if idx == loader.y[each]:\n",
    "            correct += 1\n",
    "    score = correct/total \n",
    "    return score"
   ]
  },
  {
   "cell_type": "code",
   "execution_count": 25,
   "metadata": {},
   "outputs": [
    {
     "name": "stdout",
     "output_type": "stream",
     "text": [
      "The accuracy of model in graph MotifGraph/book_3_motif_0.3.txt is 0.8157894736842105\n",
      "The accuracy of model in graph MotifGraph/book_3_motif_0.5.txt is 0.8421052631578947\n",
      "The accuracy of model in graph MotifGraph/book_3_motif_0.7.txt is 0.8289473684210527\n",
      "The accuracy of model in graph MotifGraph/book_3_motif_0.9.txt is 0.8421052631578947\n",
      "The accuracy of model in graph MotifGraph/book_4_motif_0.3.txt is 0.8289473684210527\n",
      "The accuracy of model in graph MotifGraph/book_4_motif_0.5.txt is 0.8026315789473685\n",
      "The accuracy of model in graph MotifGraph/book_4_motif_0.7.txt is 0.7894736842105263\n",
      "The accuracy of model in graph MotifGraph/book_4_motif_0.9.txt is 0.8552631578947368\n",
      "The accuracy of model in graph MotifGraph/book_5_motif_0.3.txt is 0.8421052631578947\n",
      "The accuracy of model in graph MotifGraph/book_5_motif_0.5.txt is 0.7894736842105263\n",
      "The accuracy of model in graph MotifGraph/book_5_motif_0.7.txt is 0.7763157894736842\n",
      "The accuracy of model in graph MotifGraph/book_5_motif_0.9.txt is 0.8026315789473685\n",
      "The accuracy of model in graph MotifGraph/book_6_motif_0.3.txt is 0.8157894736842105\n",
      "The accuracy of model in graph MotifGraph/book_6_motif_0.5.txt is 0.7894736842105263\n",
      "The accuracy of model in graph MotifGraph/book_6_motif_0.7.txt is 0.8157894736842105\n",
      "The accuracy of model in graph MotifGraph/book_6_motif_0.9.txt is 0.8026315789473685\n",
      "The accuracy of model in graph MotifGraph/book_7_motif_0.3.txt is 0.8157894736842105\n",
      "The accuracy of model in graph MotifGraph/book_7_motif_0.5.txt is 0.8026315789473685\n",
      "The accuracy of model in graph MotifGraph/book_7_motif_0.7.txt is 0.8289473684210527\n",
      "The accuracy of model in graph MotifGraph/book_7_motif_0.9.txt is 0.8026315789473685\n",
      "The accuracy of model in graph MotifGraph/football_3_motif_0.3.txt is 0.8470588235294118\n",
      "The accuracy of model in graph MotifGraph/football_3_motif_0.5.txt is 0.6352941176470588\n",
      "The accuracy of model in graph MotifGraph/football_3_motif_0.7.txt is 0.25882352941176473\n",
      "The accuracy of model in graph MotifGraph/football_3_motif_0.9.txt is 0.23529411764705882\n",
      "The accuracy of model in graph MotifGraph/football_4_motif_0.1.txt is 0.8117647058823529\n",
      "The accuracy of model in graph MotifGraph/football_4_motif_0.3.txt is 0.8705882352941177\n",
      "The accuracy of model in graph MotifGraph/football_4_motif_0.5.txt is 0.7058823529411765\n",
      "The accuracy of model in graph MotifGraph/football_4_motif_0.7.txt is 0.43529411764705883\n",
      "The accuracy of model in graph MotifGraph/football_4_motif_0.9.txt is 0.36470588235294116\n",
      "The accuracy of model in graph MotifGraph/football_5_motif_0.1.txt is 0.8352941176470589\n",
      "The accuracy of model in graph MotifGraph/football_5_motif_0.3.txt is 0.8352941176470589\n",
      "The accuracy of model in graph MotifGraph/football_5_motif_0.5.txt is 0.4\n",
      "The accuracy of model in graph MotifGraph/football_5_motif_0.7.txt is 0.4\n",
      "The accuracy of model in graph MotifGraph/football_5_motif_0.9.txt is 0.21176470588235294\n",
      "The accuracy of model in graph MotifGraph/football_6_motif_0.3.txt is 0.8823529411764706\n",
      "The accuracy of model in graph MotifGraph/football_6_motif_0.5.txt is 0.5529411764705883\n",
      "The accuracy of model in graph MotifGraph/football_6_motif_0.7.txt is 0.5529411764705883\n",
      "The accuracy of model in graph MotifGraph/football_6_motif_0.9.txt is 0.4\n",
      "The accuracy of model in graph MotifGraph/football_7_motif_0.3.txt is 0.7529411764705882\n",
      "The accuracy of model in graph MotifGraph/football_7_motif_0.5.txt is 0.7058823529411765\n",
      "The accuracy of model in graph MotifGraph/football_7_motif_0.7.txt is 0.7529411764705882\n",
      "The accuracy of model in graph MotifGraph/football_7_motif_0.9.txt is 0.7294117647058823\n",
      "The accuracy of model in graph MotifGraph/karate_3_motif_0.3.txt is 0.96\n",
      "The accuracy of model in graph MotifGraph/karate_3_motif_0.5.txt is 1.0\n",
      "The accuracy of model in graph MotifGraph/karate_3_motif_0.7.txt is 0.92\n",
      "The accuracy of model in graph MotifGraph/karate_3_motif_0.9.txt is 0.96\n",
      "The accuracy of model in graph MotifGraph/karate_5_motif_0.1.txt is 0.72\n",
      "The accuracy of model in graph MotifGraph/karate_5_motif_0.3.txt is 0.84\n",
      "The accuracy of model in graph MotifGraph/karate_5_motif_0.5.txt is 0.84\n",
      "The accuracy of model in graph MotifGraph/karate_5_motif_0.7.txt is 0.76\n",
      "The accuracy of model in graph MotifGraph/karate_5_motif_0.9.txt is 0.84\n",
      "The accuracy of model in graph MotifGraph/karate_6_motif_0.1.txt is 0.64\n",
      "The accuracy of model in graph MotifGraph/karate_6_motif_0.3.txt is 1.0\n",
      "The accuracy of model in graph MotifGraph/karate_6_motif_0.5.txt is 0.88\n",
      "The accuracy of model in graph MotifGraph/karate_6_motif_0.7.txt is 0.96\n",
      "The accuracy of model in graph MotifGraph/karate_6_motif_0.9.txt is 0.96\n",
      "The accuracy of model in graph MotifGraph/karate_7_motif_0.1.txt is 0.72\n",
      "The accuracy of model in graph MotifGraph/karate_7_motif_0.3.txt is 0.72\n",
      "The accuracy of model in graph MotifGraph/karate_7_motif_0.5.txt is 1.0\n",
      "The accuracy of model in graph MotifGraph/karate_7_motif_0.7.txt is 0.96\n",
      "The accuracy of model in graph MotifGraph/karate_7_motif_0.9.txt is 1.0\n"
     ]
    }
   ],
   "source": [
    "for each in all_motifs:\n",
    "    file = each.split('/')[1].split('_')[0]\n",
    "    loader = DataLoad(file)\n",
    "    score = EvaluateModel(loader,each)\n",
    "    print('The accuracy of model in graph ' + each + ' is ' + str(score))"
   ]
  },
  {
   "cell_type": "markdown",
   "metadata": {},
   "source": [
    "# Motif ER Test"
   ]
  },
  {
   "cell_type": "code",
   "execution_count": 27,
   "metadata": {},
   "outputs": [],
   "source": [
    "all_motifs = glob.glob('MotifER/*.txt')\n",
    "criterion = torch.nn.CrossEntropyLoss()\n",
    "for each in all_motifs:\n",
    "    file = each.split('/')[1].split('_')[0]\n",
    "    loader = DataLoad(file)\n",
    "    out_file = each.split('.tx')[0] + '_gat.pt'\n",
    "    model = GAT(loader)\n",
    "    edge_index = EdgeLoader(each)\n",
    "    optimizer = torch.optim.Adam(model.parameters(), lr=0.005)\n",
    "    for _ in range(50):\n",
    "        optimizer.zero_grad()  # Clear gradients.\n",
    "        out = model(loader.x, edge_index)  # Perform a single forward pass.\n",
    "        loss = criterion(out[loader.train_mask], loader.y[loader.train_mask])  # Compute the loss solely based on the training nodes.\n",
    "        loss.backward()  # Derive gradients.\n",
    "        optimizer.step()  # Update parameters based on gradients.\n",
    "        torch.save(model.state_dict(), out_file)    "
   ]
  },
  {
   "cell_type": "code",
   "execution_count": 28,
   "metadata": {},
   "outputs": [
    {
     "name": "stdout",
     "output_type": "stream",
     "text": [
      "The accuracy of model in graph MotifER/book_3_erds_0.2.txt is 0.8157894736842105\n",
      "The accuracy of model in graph MotifER/book_3_erds_0.4.txt is 0.7894736842105263\n",
      "The accuracy of model in graph MotifER/book_3_erds_0.6.txt is 0.8026315789473685\n",
      "The accuracy of model in graph MotifER/book_3_erds_0.8.txt is 0.8026315789473685\n",
      "The accuracy of model in graph MotifER/book_4_erds_0.2.txt is 0.8157894736842105\n",
      "The accuracy of model in graph MotifER/book_4_erds_0.4.txt is 0.8289473684210527\n",
      "The accuracy of model in graph MotifER/book_4_erds_0.6.txt is 0.8289473684210527\n",
      "The accuracy of model in graph MotifER/book_4_erds_0.8.txt is 0.8421052631578947\n",
      "The accuracy of model in graph MotifER/book_5_erds_0.2.txt is 0.868421052631579\n",
      "The accuracy of model in graph MotifER/book_5_erds_0.4.txt is 0.8157894736842105\n",
      "The accuracy of model in graph MotifER/book_5_erds_0.6.txt is 0.8289473684210527\n",
      "The accuracy of model in graph MotifER/book_5_erds_0.8.txt is 0.7894736842105263\n",
      "The accuracy of model in graph MotifER/book_6_erds_0.2.txt is 0.7763157894736842\n",
      "The accuracy of model in graph MotifER/book_6_erds_0.4.txt is 0.8157894736842105\n",
      "The accuracy of model in graph MotifER/book_6_erds_0.6.txt is 0.7763157894736842\n",
      "The accuracy of model in graph MotifER/book_6_erds_0.8.txt is 0.7894736842105263\n",
      "The accuracy of model in graph MotifER/book_7_erds_0.2.txt is 0.8157894736842105\n",
      "The accuracy of model in graph MotifER/book_7_erds_0.4.txt is 0.8289473684210527\n",
      "The accuracy of model in graph MotifER/book_7_erds_0.6.txt is 0.8421052631578947\n",
      "The accuracy of model in graph MotifER/book_7_erds_0.8.txt is 0.8289473684210527\n",
      "The accuracy of model in graph MotifER/book_8_erds_0.2.txt is 0.7631578947368421\n",
      "The accuracy of model in graph MotifER/book_8_erds_0.4.txt is 0.7631578947368421\n",
      "The accuracy of model in graph MotifER/book_8_erds_0.6.txt is 0.7763157894736842\n",
      "The accuracy of model in graph MotifER/book_8_erds_0.8.txt is 0.7763157894736842\n",
      "The accuracy of model in graph MotifER/football_3_erds_0.2.txt is 0.7411764705882353\n",
      "The accuracy of model in graph MotifER/football_3_erds_0.4.txt is 0.8\n",
      "The accuracy of model in graph MotifER/football_3_erds_0.6.txt is 0.8\n",
      "The accuracy of model in graph MotifER/football_3_erds_0.8.txt is 0.7176470588235294\n",
      "The accuracy of model in graph MotifER/football_4_erds_0.2.txt is 0.8235294117647058\n",
      "The accuracy of model in graph MotifER/football_4_erds_0.4.txt is 0.6823529411764706\n",
      "The accuracy of model in graph MotifER/football_4_erds_0.6.txt is 0.7176470588235294\n",
      "The accuracy of model in graph MotifER/football_4_erds_0.8.txt is 0.8352941176470589\n",
      "The accuracy of model in graph MotifER/football_5_erds_0.2.txt is 0.7176470588235294\n",
      "The accuracy of model in graph MotifER/football_5_erds_0.4.txt is 0.7764705882352941\n",
      "The accuracy of model in graph MotifER/football_5_erds_0.6.txt is 0.7058823529411765\n",
      "The accuracy of model in graph MotifER/football_5_erds_0.8.txt is 0.8823529411764706\n",
      "The accuracy of model in graph MotifER/football_6_erds_0.2.txt is 0.47058823529411764\n",
      "The accuracy of model in graph MotifER/football_6_erds_0.4.txt is 0.5411764705882353\n",
      "The accuracy of model in graph MotifER/football_6_erds_0.6.txt is 0.7411764705882353\n",
      "The accuracy of model in graph MotifER/football_6_erds_0.8.txt is 0.6823529411764706\n",
      "The accuracy of model in graph MotifER/football_7_erds_0.2.txt is 0.5764705882352941\n",
      "The accuracy of model in graph MotifER/football_7_erds_0.4.txt is 0.7176470588235294\n",
      "The accuracy of model in graph MotifER/football_7_erds_0.6.txt is 0.7647058823529411\n",
      "The accuracy of model in graph MotifER/football_7_erds_0.8.txt is 0.7176470588235294\n",
      "The accuracy of model in graph MotifER/football_8_erds_0.2.txt is 0.7647058823529411\n",
      "The accuracy of model in graph MotifER/football_8_erds_0.4.txt is 0.6823529411764706\n",
      "The accuracy of model in graph MotifER/football_8_erds_0.6.txt is 0.6941176470588235\n",
      "The accuracy of model in graph MotifER/football_8_erds_0.8.txt is 0.8\n",
      "The accuracy of model in graph MotifER/karate_3_erds_0.2.txt is 0.92\n",
      "The accuracy of model in graph MotifER/karate_3_erds_0.4.txt is 0.48\n",
      "The accuracy of model in graph MotifER/karate_3_erds_0.6.txt is 0.96\n",
      "The accuracy of model in graph MotifER/karate_3_erds_0.8.txt is 1.0\n",
      "The accuracy of model in graph MotifER/karate_5_erds_0.2.txt is 0.8\n",
      "The accuracy of model in graph MotifER/karate_5_erds_0.4.txt is 0.84\n",
      "The accuracy of model in graph MotifER/karate_5_erds_0.6.txt is 0.8\n",
      "The accuracy of model in graph MotifER/karate_5_erds_0.8.txt is 0.84\n",
      "The accuracy of model in graph MotifER/karate_6_erds_0.2.txt is 0.84\n",
      "The accuracy of model in graph MotifER/karate_6_erds_0.4.txt is 1.0\n",
      "The accuracy of model in graph MotifER/karate_6_erds_0.6.txt is 0.92\n",
      "The accuracy of model in graph MotifER/karate_6_erds_0.8.txt is 1.0\n",
      "The accuracy of model in graph MotifER/karate_7_erds_0.2.txt is 0.92\n",
      "The accuracy of model in graph MotifER/karate_7_erds_0.4.txt is 0.96\n",
      "The accuracy of model in graph MotifER/karate_7_erds_0.6.txt is 0.96\n",
      "The accuracy of model in graph MotifER/karate_7_erds_0.8.txt is 0.96\n",
      "The accuracy of model in graph MotifER/karate_8_erds_0.2.txt is 0.92\n",
      "The accuracy of model in graph MotifER/karate_8_erds_0.4.txt is 0.96\n",
      "The accuracy of model in graph MotifER/karate_8_erds_0.6.txt is 0.96\n",
      "The accuracy of model in graph MotifER/karate_8_erds_0.8.txt is 0.96\n"
     ]
    }
   ],
   "source": [
    "for each in all_motifs:\n",
    "    file = each.split('/')[1].split('_')[0]\n",
    "    loader = DataLoad(file)\n",
    "    score = EvaluateModel(loader,each)\n",
    "    print('The accuracy of model in graph ' + each + ' is ' + str(score))"
   ]
  },
  {
   "cell_type": "code",
   "execution_count": 13,
   "metadata": {},
   "outputs": [
    {
     "name": "stderr",
     "output_type": "stream",
     "text": [
      "  0%|          | 0/50 [00:00<?, ?it/s]"
     ]
    },
    {
     "name": "stderr",
     "output_type": "stream",
     "text": [
      "100%|██████████| 50/50 [00:00<00:00, 67.59it/s]\n",
      "100%|██████████| 50/50 [00:00<00:00, 77.45it/s]\n",
      "100%|██████████| 50/50 [00:00<00:00, 66.20it/s]\n",
      "100%|██████████| 50/50 [00:00<00:00, 73.44it/s]\n",
      "100%|██████████| 50/50 [00:00<00:00, 69.91it/s]\n",
      "100%|██████████| 50/50 [00:00<00:00, 77.08it/s]\n",
      "100%|██████████| 50/50 [00:53<00:00,  1.07s/it]\n",
      "100%|██████████| 50/50 [00:37<00:00,  1.35it/s]\n",
      "100%|██████████| 50/50 [00:46<00:00,  1.08it/s]\n",
      "100%|██████████| 50/50 [00:49<00:00,  1.01it/s]\n",
      "100%|██████████| 50/50 [00:41<00:00,  1.22it/s]\n",
      "100%|██████████| 50/50 [00:23<00:00,  2.09it/s]\n",
      "100%|██████████| 50/50 [00:22<00:00,  2.21it/s]\n",
      "100%|██████████| 50/50 [00:22<00:00,  2.19it/s]\n",
      "100%|██████████| 50/50 [00:13<00:00,  3.84it/s]\n",
      "100%|██████████| 50/50 [00:12<00:00,  3.98it/s]\n",
      "100%|██████████| 50/50 [00:00<00:00, 59.48it/s]\n",
      "100%|██████████| 50/50 [00:00<00:00, 67.95it/s]\n",
      "100%|██████████| 50/50 [00:00<00:00, 63.76it/s]\n",
      "100%|██████████| 50/50 [00:00<00:00, 63.02it/s]\n",
      "100%|██████████| 50/50 [00:00<00:00, 77.03it/s]\n",
      "100%|██████████| 50/50 [00:00<00:00, 73.53it/s]\n",
      "100%|██████████| 50/50 [00:00<00:00, 104.15it/s]\n",
      "100%|██████████| 50/50 [00:00<00:00, 106.12it/s]\n",
      "100%|██████████| 50/50 [00:00<00:00, 98.29it/s]\n",
      "100%|██████████| 50/50 [00:00<00:00, 101.76it/s]\n",
      "100%|██████████| 50/50 [00:00<00:00, 101.05it/s]\n"
     ]
    },
    {
     "name": "stdout",
     "output_type": "stream",
     "text": [
      "The accuracy of model in graph MotifClique/book_3_clique.txt is 0.8552631578947368\n",
      "The accuracy of model in graph MotifClique/book_4_clique.txt is 0.8552631578947368\n",
      "The accuracy of model in graph MotifClique/book_5_clique.txt is 0.8289473684210527\n",
      "The accuracy of model in graph MotifClique/book_6_clique.txt is 0.7763157894736842\n",
      "The accuracy of model in graph MotifClique/book_7_clique.txt is 0.8289473684210527\n",
      "The accuracy of model in graph MotifClique/book_8_clique.txt is 0.8157894736842105\n",
      "The accuracy of model in graph MotifClique/citeseer_3_clique.txt is 0.694980694980695\n",
      "The accuracy of model in graph MotifClique/citeseer_4_clique.txt is 0.6791076791076791\n",
      "The accuracy of model in graph MotifClique/citeseer_5_clique.txt is 0.6731016731016731\n",
      "The accuracy of model in graph MotifClique/citeseer_6_clique.txt is 0.6773916773916774\n",
      "The accuracy of model in graph MotifClique/citeseer_7_clique.txt is 0.6640926640926641\n",
      "The accuracy of model in graph MotifClique/cora_3_clique.txt is 0.815595363540569\n",
      "The accuracy of model in graph MotifClique/cora_4_clique.txt is 0.8177028451001054\n",
      "The accuracy of model in graph MotifClique/cora_5_clique.txt is 0.8066385669125395\n",
      "The accuracy of model in graph MotifClique/cora_6_clique.txt is 0.8145416227608009\n",
      "The accuracy of model in graph MotifClique/cora_7_clique.txt is 0.809799789251844\n",
      "The accuracy of model in graph MotifClique/football_3_clique.txt is 0.18823529411764706\n",
      "The accuracy of model in graph MotifClique/football_4_clique.txt is 0.3176470588235294\n",
      "The accuracy of model in graph MotifClique/football_5_clique.txt is 0.29411764705882354\n",
      "The accuracy of model in graph MotifClique/football_6_clique.txt is 0.27058823529411763\n",
      "The accuracy of model in graph MotifClique/football_7_clique.txt is 0.6823529411764706\n",
      "The accuracy of model in graph MotifClique/football_8_clique.txt is 0.5764705882352941\n",
      "The accuracy of model in graph MotifClique/karate_3_clique.txt is 1.0\n",
      "The accuracy of model in graph MotifClique/karate_5_clique.txt is 0.76\n",
      "The accuracy of model in graph MotifClique/karate_6_clique.txt is 0.96\n",
      "The accuracy of model in graph MotifClique/karate_7_clique.txt is 1.0\n",
      "The accuracy of model in graph MotifClique/karate_8_clique.txt is 0.96\n"
     ]
    }
   ],
   "source": [
    "from tqdm import tqdm\n",
    "all_motifs = glob.glob('MotifClique/*.txt')\n",
    "criterion = torch.nn.CrossEntropyLoss()\n",
    "for each in all_motifs:\n",
    "    file = each.split('/')[1].split('_')[0]\n",
    "    if \"c\" in file:\n",
    "        loader = DataLoad(file,True)\n",
    "    else:\n",
    "        loader = DataLoad(file)\n",
    "    out_file = each.split('.tx')[0] + '_gat.pt'\n",
    "    model = GAT(loader)\n",
    "    edge_index = EdgeLoader(each)\n",
    "    optimizer = torch.optim.Adam(model.parameters(), lr=0.005)\n",
    "    for _ in tqdm(range(50)):\n",
    "        optimizer.zero_grad()  # Clear gradients.\n",
    "        out = model(loader.x, edge_index)  # Perform a single forward pass.\n",
    "        loss = criterion(out[loader.train_mask], loader.y[loader.train_mask])  # Compute the loss solely based on the training nodes.\n",
    "        loss.backward()  # Derive gradients.\n",
    "        optimizer.step()  # Update parameters based on gradients.\n",
    "        torch.save(model.state_dict(), out_file)    \n",
    "for each in all_motifs:\n",
    "    file = each.split('/')[1].split('_')[0]\n",
    "    if \"c\" in file:\n",
    "        loader = DataLoad(file,True)\n",
    "    else:\n",
    "        loader = DataLoad(file)\n",
    "    score = EvaluateModel(loader,each)\n",
    "    print('The accuracy of model in graph ' + each + ' is ' + str(score))"
   ]
  },
  {
   "cell_type": "code",
   "execution_count": 14,
   "metadata": {},
   "outputs": [
    {
     "name": "stderr",
     "output_type": "stream",
     "text": [
      "100%|██████████| 50/50 [00:00<00:00, 73.35it/s]\n",
      "100%|██████████| 50/50 [00:00<00:00, 56.79it/s]\n",
      "100%|██████████| 50/50 [00:00<00:00, 79.54it/s]\n",
      "100%|██████████| 50/50 [00:00<00:00, 70.64it/s]\n",
      "100%|██████████| 50/50 [00:00<00:00, 69.91it/s]\n",
      "100%|██████████| 50/50 [00:00<00:00, 64.88it/s]\n",
      "100%|██████████| 50/50 [00:37<00:00,  1.35it/s]\n",
      "100%|██████████| 50/50 [00:36<00:00,  1.39it/s]\n",
      "100%|██████████| 50/50 [00:36<00:00,  1.36it/s]\n",
      "100%|██████████| 50/50 [00:36<00:00,  1.38it/s]\n",
      "100%|██████████| 50/50 [00:37<00:00,  1.35it/s]\n",
      "100%|██████████| 50/50 [00:06<00:00,  7.66it/s]\n",
      "100%|██████████| 50/50 [00:06<00:00,  7.50it/s]\n",
      "100%|██████████| 50/50 [00:06<00:00,  7.88it/s]\n",
      "100%|██████████| 50/50 [00:06<00:00,  7.91it/s]\n",
      "100%|██████████| 50/50 [00:06<00:00,  7.46it/s]\n",
      "100%|██████████| 50/50 [00:00<00:00, 78.31it/s]\n",
      "100%|██████████| 50/50 [00:00<00:00, 79.51it/s]\n",
      "100%|██████████| 50/50 [00:00<00:00, 75.67it/s]\n",
      "100%|██████████| 50/50 [00:00<00:00, 81.28it/s]\n",
      "100%|██████████| 50/50 [00:00<00:00, 76.58it/s]\n",
      "100%|██████████| 50/50 [00:00<00:00, 62.17it/s]\n",
      "100%|██████████| 50/50 [00:00<00:00, 102.12it/s]\n",
      "100%|██████████| 50/50 [00:00<00:00, 109.75it/s]\n",
      "100%|██████████| 50/50 [00:00<00:00, 110.31it/s]\n",
      "100%|██████████| 50/50 [00:00<00:00, 108.52it/s]\n",
      "100%|██████████| 50/50 [00:00<00:00, 106.85it/s]\n"
     ]
    },
    {
     "name": "stdout",
     "output_type": "stream",
     "text": [
      "The accuracy of model in graph MotifEE/book_3_gap.txt is 0.8289473684210527\n",
      "The accuracy of model in graph MotifEE/book_4_gap.txt is 0.8026315789473685\n",
      "The accuracy of model in graph MotifEE/book_5_gap.txt is 0.8289473684210527\n",
      "The accuracy of model in graph MotifEE/book_6_gap.txt is 0.8026315789473685\n",
      "The accuracy of model in graph MotifEE/book_7_gap.txt is 0.8157894736842105\n",
      "The accuracy of model in graph MotifEE/book_8_gap.txt is 0.7894736842105263\n",
      "The accuracy of model in graph MotifEE/citeseer_3_gap.txt is 0.6752466752466753\n",
      "The accuracy of model in graph MotifEE/citeseer_4_gap.txt is 0.6735306735306735\n",
      "The accuracy of model in graph MotifEE/citeseer_5_gap.txt is 0.6705276705276705\n",
      "The accuracy of model in graph MotifEE/citeseer_6_gap.txt is 0.6662376662376662\n",
      "The accuracy of model in graph MotifEE/citeseer_7_gap.txt is 0.6636636636636637\n",
      "The accuracy of model in graph MotifEE/cora_3_gap.txt is 0.821917808219178\n",
      "The accuracy of model in graph MotifEE/cora_4_gap.txt is 0.8087460484720759\n",
      "The accuracy of model in graph MotifEE/cora_5_gap.txt is 0.821390937829294\n",
      "The accuracy of model in graph MotifEE/cora_6_gap.txt is 0.8266596417281349\n",
      "The accuracy of model in graph MotifEE/cora_7_gap.txt is 0.8055848261327714\n",
      "The accuracy of model in graph MotifEE/football_3_gap.txt is 0.9058823529411765\n",
      "The accuracy of model in graph MotifEE/football_4_gap.txt is 0.8470588235294118\n",
      "The accuracy of model in graph MotifEE/football_5_gap.txt is 0.8\n",
      "The accuracy of model in graph MotifEE/football_6_gap.txt is 0.8588235294117647\n",
      "The accuracy of model in graph MotifEE/football_7_gap.txt is 0.7647058823529411\n",
      "The accuracy of model in graph MotifEE/football_8_gap.txt is 0.788235294117647\n",
      "The accuracy of model in graph MotifEE/karate_3_gap.txt is 1.0\n",
      "The accuracy of model in graph MotifEE/karate_5_gap.txt is 0.8\n",
      "The accuracy of model in graph MotifEE/karate_6_gap.txt is 0.88\n",
      "The accuracy of model in graph MotifEE/karate_7_gap.txt is 1.0\n",
      "The accuracy of model in graph MotifEE/karate_8_gap.txt is 1.0\n"
     ]
    }
   ],
   "source": [
    "from tqdm import tqdm\n",
    "all_motifs = glob.glob('MotifEE/*.txt')\n",
    "criterion = torch.nn.CrossEntropyLoss()\n",
    "for each in all_motifs:\n",
    "    file = each.split('/')[1].split('_')[0]\n",
    "    if \"c\" in file:\n",
    "        loader = DataLoad(file,True)\n",
    "    else:\n",
    "        loader = DataLoad(file)\n",
    "    out_file = each.split('.tx')[0] + '_gat.pt'\n",
    "    model = GAT(loader)\n",
    "    edge_index = EdgeLoader(each)\n",
    "    optimizer = torch.optim.Adam(model.parameters(), lr=0.005)\n",
    "    for _ in tqdm(range(50)):\n",
    "        optimizer.zero_grad()  # Clear gradients.\n",
    "        out = model(loader.x, edge_index)  # Perform a single forward pass.\n",
    "        loss = criterion(out[loader.train_mask], loader.y[loader.train_mask])  # Compute the loss solely based on the training nodes.\n",
    "        loss.backward()  # Derive gradients.\n",
    "        optimizer.step()  # Update parameters based on gradients.\n",
    "        torch.save(model.state_dict(), out_file)    \n",
    "for each in all_motifs:\n",
    "    file = each.split('/')[1].split('_')[0]\n",
    "    if \"c\" in file:\n",
    "        loader = DataLoad(file,True)\n",
    "    else:\n",
    "        loader = DataLoad(file)\n",
    "    score = EvaluateModel(loader,each)\n",
    "    print('The accuracy of model in graph ' + each + ' is ' + str(score))"
   ]
  },
  {
   "cell_type": "code",
   "execution_count": 11,
   "metadata": {},
   "outputs": [
    {
     "name": "stderr",
     "output_type": "stream",
     "text": [
      "100%|██████████| 20/20 [00:00<00:00, 67.92it/s]\n",
      "100%|██████████| 20/20 [00:00<00:00, 96.10it/s]\n",
      "100%|██████████| 20/20 [00:00<00:00, 73.07it/s]\n",
      "100%|██████████| 20/20 [00:00<00:00, 86.74it/s]\n",
      "100%|██████████| 20/20 [00:00<00:00, 98.54it/s]\n",
      "100%|██████████| 20/20 [00:00<00:00, 82.88it/s]\n",
      "100%|██████████| 20/20 [00:15<00:00,  1.32it/s]\n",
      "100%|██████████| 20/20 [00:14<00:00,  1.42it/s]\n",
      "100%|██████████| 20/20 [00:14<00:00,  1.37it/s]\n",
      "100%|██████████| 20/20 [00:15<00:00,  1.29it/s]\n",
      "100%|██████████| 20/20 [00:14<00:00,  1.39it/s]\n",
      "100%|██████████| 20/20 [00:02<00:00,  7.92it/s]\n",
      "100%|██████████| 20/20 [00:02<00:00,  7.93it/s]\n",
      "100%|██████████| 20/20 [00:05<00:00,  3.93it/s]\n",
      "100%|██████████| 20/20 [00:03<00:00,  5.43it/s]\n",
      "100%|██████████| 20/20 [00:02<00:00,  6.76it/s]\n",
      "100%|██████████| 20/20 [00:00<00:00, 81.51it/s]\n",
      "100%|██████████| 20/20 [00:00<00:00, 69.30it/s]\n",
      "100%|██████████| 20/20 [00:00<00:00, 73.02it/s]\n",
      "100%|██████████| 20/20 [00:00<00:00, 67.02it/s]\n",
      "100%|██████████| 20/20 [00:00<00:00, 69.74it/s]\n",
      "100%|██████████| 20/20 [00:00<00:00, 74.65it/s]\n",
      "100%|██████████| 20/20 [00:00<00:00, 94.84it/s]\n",
      "100%|██████████| 20/20 [00:00<00:00, 94.38it/s]\n",
      "100%|██████████| 20/20 [00:00<00:00, 90.78it/s]\n",
      "100%|██████████| 20/20 [00:00<00:00, 95.32it/s]\n",
      "100%|██████████| 20/20 [00:00<00:00, 98.79it/s] \n"
     ]
    },
    {
     "name": "stdout",
     "output_type": "stream",
     "text": [
      "The accuracy of model in graph MotifGap/book_3_gap.txt is 0.8026315789473685\n",
      "The accuracy of model in graph MotifGap/book_4_gap.txt is 0.7894736842105263\n",
      "The accuracy of model in graph MotifGap/book_5_gap.txt is 0.8552631578947368\n",
      "The accuracy of model in graph MotifGap/book_6_gap.txt is 0.8421052631578947\n",
      "The accuracy of model in graph MotifGap/book_7_gap.txt is 0.8157894736842105\n",
      "The accuracy of model in graph MotifGap/book_8_gap.txt is 0.8026315789473685\n",
      "The accuracy of model in graph MotifGap/citeseer_3_gap.txt is 0.6791076791076791\n",
      "The accuracy of model in graph MotifGap/citeseer_4_gap.txt is 0.6778206778206778\n",
      "The accuracy of model in graph MotifGap/citeseer_5_gap.txt is 0.6752466752466753\n",
      "The accuracy of model in graph MotifGap/citeseer_6_gap.txt is 0.6675246675246675\n",
      "The accuracy of model in graph MotifGap/citeseer_7_gap.txt is 0.6816816816816816\n",
      "The accuracy of model in graph MotifGap/cora_3_gap.txt is 0.7629083245521602\n",
      "The accuracy of model in graph MotifGap/cora_4_gap.txt is 0.7339304531085353\n",
      "The accuracy of model in graph MotifGap/cora_5_gap.txt is 0.7160168598524763\n",
      "The accuracy of model in graph MotifGap/cora_6_gap.txt is 0.7233930453108536\n",
      "The accuracy of model in graph MotifGap/cora_7_gap.txt is 0.7481559536354057\n",
      "The accuracy of model in graph MotifGap/football_3_gap.txt is 0.5529411764705883\n",
      "The accuracy of model in graph MotifGap/football_4_gap.txt is 0.6352941176470588\n",
      "The accuracy of model in graph MotifGap/football_5_gap.txt is 0.27058823529411763\n",
      "The accuracy of model in graph MotifGap/football_6_gap.txt is 0.10588235294117647\n",
      "The accuracy of model in graph MotifGap/football_7_gap.txt is 0.5411764705882353\n",
      "The accuracy of model in graph MotifGap/football_8_gap.txt is 0.5764705882352941\n",
      "The accuracy of model in graph MotifGap/karate_3_gap.txt is 0.52\n",
      "The accuracy of model in graph MotifGap/karate_5_gap.txt is 0.56\n",
      "The accuracy of model in graph MotifGap/karate_6_gap.txt is 0.96\n",
      "The accuracy of model in graph MotifGap/karate_7_gap.txt is 0.96\n",
      "The accuracy of model in graph MotifGap/karate_8_gap.txt is 0.48\n"
     ]
    }
   ],
   "source": [
    "from tqdm import tqdm\n",
    "all_motifs = glob.glob('MotifGap/*.txt')\n",
    "criterion = torch.nn.CrossEntropyLoss()\n",
    "for each in all_motifs:\n",
    "    file = each.split('/')[1].split('_')[0]\n",
    "    if \"c\" in file:\n",
    "        loader = DataLoad(file,True)\n",
    "    else:\n",
    "        loader = DataLoad(file)\n",
    "    out_file = each.split('.tx')[0] + '_gat.pt'\n",
    "    model = GAT(loader)\n",
    "    edge_index = EdgeLoader(each)\n",
    "    optimizer = torch.optim.Adam(model.parameters(), lr=0.005)\n",
    "    for _ in tqdm(range(20)):\n",
    "        optimizer.zero_grad()  # Clear gradients.\n",
    "        out = model(loader.x, edge_index)  # Perform a single forward pass.\n",
    "        loss = criterion(out[loader.train_mask], loader.y[loader.train_mask])  # Compute the loss solely based on the training nodes.\n",
    "        loss.backward()  # Derive gradients.\n",
    "        optimizer.step()  # Update parameters based on gradients.\n",
    "        torch.save(model.state_dict(), out_file)    \n",
    "for each in all_motifs:\n",
    "    file = each.split('/')[1].split('_')[0]\n",
    "    if \"c\" in file:\n",
    "        loader = DataLoad(file,True)\n",
    "    else:\n",
    "        loader = DataLoad(file)\n",
    "    score = EvaluateModel(loader,each)\n",
    "    print('The accuracy of model in graph ' + each + ' is ' + str(score))"
   ]
  },
  {
   "cell_type": "markdown",
   "metadata": {},
   "source": [
    "# Test Motif Orbit"
   ]
  },
  {
   "cell_type": "code",
   "execution_count": 21,
   "metadata": {},
   "outputs": [],
   "source": [
    "def GetMax(file):\n",
    "    with open(file,'r+') as fp:\n",
    "        lines = fp.readlines()\n",
    "    ret = []\n",
    "    for each in lines:\n",
    "        info = each.split(' ')\n",
    "        src = int(info[0])\n",
    "        dst = int(info[1])\n",
    "        ret.append(src)\n",
    "        ret.append(dst)\n",
    "    ret = max(ret)\n",
    "    return ret"
   ]
  },
  {
   "cell_type": "code",
   "execution_count": 31,
   "metadata": {},
   "outputs": [],
   "source": [
    "all_motifs = glob.glob('MotifOrbit/*.txt')\n",
    "criterion = torch.nn.CrossEntropyLoss()\n",
    "for each in all_motifs:\n",
    "    file = each.split('/')[1].split('_')[0]\n",
    "    loader = DataLoad(file)\n",
    "    out_file = each.split('.tx')[0] + '_gat.pt'\n",
    "    model = GAT(loader)\n",
    "    edge_index = EdgeLoader(each)\n",
    "    m = GetMax(each) #Now we have the number of total nodes\n",
    "    m = m + 1 - loader.n_node #This is the number of motifs\n",
    "    loader.AppendDummy(m)\n",
    "    optimizer = torch.optim.Adam(model.parameters(), lr=0.005)\n",
    "    for _ in range(50):\n",
    "        optimizer.zero_grad()  # Clear gradients.\n",
    "        out = model(loader.x, edge_index)  # Perform a single forward pass.\n",
    "        loss = criterion(out[loader.train_mask], loader.y[loader.train_mask])  # Compute the loss solely based on the training nodes.\n",
    "        loss.backward()  # Derive gradients.\n",
    "        optimizer.step()  # Update parameters based on gradients.\n",
    "        torch.save(model.state_dict(), out_file)  "
   ]
  },
  {
   "cell_type": "code",
   "execution_count": 32,
   "metadata": {},
   "outputs": [
    {
     "name": "stdout",
     "output_type": "stream",
     "text": [
      "The accuracy of model in graph MotifOrbit/book_3_orbit.txt is 0.8289473684210527\n",
      "The accuracy of model in graph MotifOrbit/book_4_orbit.txt is 0.8421052631578947\n",
      "The accuracy of model in graph MotifOrbit/book_5_orbit.txt is 0.8026315789473685\n",
      "The accuracy of model in graph MotifOrbit/book_6_orbit.txt is 0.7894736842105263\n",
      "The accuracy of model in graph MotifOrbit/book_7_orbit.txt is 0.8289473684210527\n",
      "The accuracy of model in graph MotifOrbit/book_8_orbit.txt is 0.7763157894736842\n",
      "The accuracy of model in graph MotifOrbit/football_3_orbit.txt is 0.6352941176470588\n",
      "The accuracy of model in graph MotifOrbit/football_4_orbit.txt is 0.8235294117647058\n",
      "The accuracy of model in graph MotifOrbit/football_5_orbit.txt is 0.7176470588235294\n",
      "The accuracy of model in graph MotifOrbit/football_6_orbit.txt is 0.6941176470588235\n",
      "The accuracy of model in graph MotifOrbit/football_7_orbit.txt is 0.5529411764705883\n",
      "The accuracy of model in graph MotifOrbit/football_8_orbit.txt is 0.788235294117647\n",
      "The accuracy of model in graph MotifOrbit/karate_3_orbit.txt is 0.92\n",
      "The accuracy of model in graph MotifOrbit/karate_5_orbit.txt is 0.76\n",
      "The accuracy of model in graph MotifOrbit/karate_6_orbit.txt is 0.92\n",
      "The accuracy of model in graph MotifOrbit/karate_7_orbit.txt is 0.92\n",
      "The accuracy of model in graph MotifOrbit/karate_8_orbit.txt is 0.92\n"
     ]
    }
   ],
   "source": [
    "for each in all_motifs:\n",
    "    file = each.split('/')[1].split('_')[0]\n",
    "    loader = DataLoad(file)\n",
    "    m = GetMax(each) #Now we have the number of total nodes\n",
    "    m = m + 1 - loader.n_node #This is the number of motifs\n",
    "    loader.AppendDummy(m)\n",
    "    score = EvaluateModel(loader,each)\n",
    "    print('The accuracy of model in graph ' + each + ' is ' + str(score))"
   ]
  },
  {
   "cell_type": "code",
   "execution_count": null,
   "metadata": {},
   "outputs": [],
   "source": []
  },
  {
   "cell_type": "markdown",
   "metadata": {},
   "source": [
    "# Additional Tasks"
   ]
  },
  {
   "cell_type": "code",
   "execution_count": 12,
   "metadata": {},
   "outputs": [],
   "source": [
    "from tqdm import tqdm\n",
    "def TrainAllModel(file):\n",
    "    loader = DataLoad(file,True)\n",
    "    suffix = ['.mtx','_away.txt','_er.txt']\n",
    "    criterion = torch.nn.CrossEntropyLoss()\n",
    "    for each in suffix:\n",
    "        edge_file = file + each\n",
    "        out_file = edge_file.split('.')[0] + '.pt'\n",
    "        model = GAT(loader)\n",
    "        edge_index = EdgeLoader(edge_file)\n",
    "        optimizer = torch.optim.Adam(model.parameters(), lr=0.005)\n",
    "        for _ in tqdm(range(20)):\n",
    "            optimizer.zero_grad()  # Clear gradients.\n",
    "            out = model(loader.x, edge_index)  # Perform a single forward pass.\n",
    "            loss = criterion(out[loader.train_mask], loader.y[loader.train_mask])  # Compute the loss solely based on the training nodes.\n",
    "            loss.backward()  # Derive gradients.\n",
    "            optimizer.step()  # Update parameters based on gradients.\n",
    "            torch.save(model.state_dict(), out_file)    "
   ]
  },
  {
   "cell_type": "code",
   "execution_count": 13,
   "metadata": {},
   "outputs": [],
   "source": [
    "def TestAllModel(file):\n",
    "    loader = DataLoad(file,True)\n",
    "    suffix = ['.mtx','_away.txt','_er.txt']\n",
    "    for each in suffix:\n",
    "        edge_file = file + each\n",
    "        score = EvaluateModel(loader,edge_file)\n",
    "        print('The accuracy of model in graph ' + edge_file + ' is ' + str(score))"
   ]
  },
  {
   "cell_type": "code",
   "execution_count": 14,
   "metadata": {},
   "outputs": [],
   "source": [
    "def EvaluateModel(loader,edge_file):\n",
    "    model = GAT(loader)\n",
    "    edge_index = EdgeLoader(edge_file)\n",
    "    model_name = edge_file.split('.')[0] + '.pt'\n",
    "    model.load_state_dict(torch.load(model_name))\n",
    "    out = model(loader.x,edge_index).detach().numpy()\n",
    "    total = len(loader.test)\n",
    "    correct = 0\n",
    "    for each in loader.test:\n",
    "        idx = np.argmax(out[each])\n",
    "        if idx == loader.y[each]:\n",
    "            correct += 1\n",
    "    score = correct/total \n",
    "    return score"
   ]
  },
  {
   "cell_type": "code",
   "execution_count": 15,
   "metadata": {},
   "outputs": [],
   "source": [
    "def TrainAndTest(file):\n",
    "    TrainAllModel(file)\n",
    "    TestAllModel(file)"
   ]
  },
  {
   "cell_type": "code",
   "execution_count": 16,
   "metadata": {},
   "outputs": [
    {
     "name": "stderr",
     "output_type": "stream",
     "text": [
      "100%|██████████| 20/20 [00:03<00:00,  5.97it/s]\n",
      "100%|██████████| 20/20 [00:03<00:00,  6.04it/s]\n",
      "100%|██████████| 20/20 [00:02<00:00,  6.67it/s]\n"
     ]
    },
    {
     "name": "stdout",
     "output_type": "stream",
     "text": [
      "The accuracy of model in graph cora.mtx is 0.7523709167544784\n",
      "The accuracy of model in graph cora_away.txt is 0.7413066385669126\n",
      "The accuracy of model in graph cora_er.txt is 0.7586933614330874\n"
     ]
    }
   ],
   "source": [
    "TrainAndTest('cora')"
   ]
  },
  {
   "cell_type": "code",
   "execution_count": 16,
   "metadata": {},
   "outputs": [
    {
     "name": "stderr",
     "output_type": "stream",
     "text": [
      "100%|██████████| 20/20 [00:15<00:00,  1.31it/s]\n",
      "100%|██████████| 20/20 [00:15<00:00,  1.31it/s]\n",
      "100%|██████████| 20/20 [00:14<00:00,  1.36it/s]\n"
     ]
    },
    {
     "name": "stdout",
     "output_type": "stream",
     "text": [
      "The accuracy of model in graph citeseer.mtx is 0.7202917202917203\n",
      "The accuracy of model in graph citeseer_away.txt is 0.7078507078507078\n",
      "The accuracy of model in graph citeseer_er.txt is 0.7168597168597168\n"
     ]
    }
   ],
   "source": [
    "TrainAndTest('citeseer')"
   ]
  },
  {
   "cell_type": "markdown",
   "metadata": {},
   "source": [
    "# Additional Motif Test"
   ]
  },
  {
   "cell_type": "code",
   "execution_count": 17,
   "metadata": {},
   "outputs": [],
   "source": [
    "from tqdm import tqdm"
   ]
  },
  {
   "cell_type": "code",
   "execution_count": 19,
   "metadata": {},
   "outputs": [
    {
     "name": "stderr",
     "output_type": "stream",
     "text": [
      "100%|██████████| 20/20 [01:59<00:00,  5.99s/it]\n",
      "100%|██████████| 20/20 [01:58<00:00,  5.92s/it]\n",
      "100%|██████████| 20/20 [01:58<00:00,  5.95s/it]\n",
      "100%|██████████| 20/20 [02:27<00:00,  7.36s/it]\n",
      "100%|██████████| 20/20 [01:57<00:00,  5.87s/it]\n",
      "100%|██████████| 20/20 [01:56<00:00,  5.84s/it]\n",
      "100%|██████████| 20/20 [01:56<00:00,  5.80s/it]\n",
      "100%|██████████| 20/20 [01:53<00:00,  5.66s/it]\n",
      "100%|██████████| 20/20 [01:57<00:00,  5.88s/it]\n",
      "100%|██████████| 20/20 [02:00<00:00,  6.01s/it]\n",
      "100%|██████████| 20/20 [01:57<00:00,  5.89s/it]\n",
      "100%|██████████| 20/20 [01:59<00:00,  5.99s/it]\n",
      "100%|██████████| 20/20 [01:55<00:00,  5.78s/it]\n",
      "100%|██████████| 20/20 [01:55<00:00,  5.75s/it]\n",
      "100%|██████████| 20/20 [02:06<00:00,  6.32s/it]\n",
      "100%|██████████| 20/20 [02:27<00:00,  7.37s/it]\n",
      "100%|██████████| 20/20 [01:55<00:00,  5.78s/it]\n",
      "100%|██████████| 20/20 [01:56<00:00,  5.84s/it]\n",
      "100%|██████████| 20/20 [01:57<00:00,  5.86s/it]\n",
      "100%|██████████| 20/20 [01:58<00:00,  5.91s/it]\n",
      "100%|██████████| 20/20 [01:38<00:00,  4.94s/it]\n",
      "100%|██████████| 20/20 [01:34<00:00,  4.73s/it]\n",
      "100%|██████████| 20/20 [01:32<00:00,  4.62s/it]\n",
      "100%|██████████| 20/20 [02:02<00:00,  6.13s/it]\n",
      "100%|██████████| 20/20 [01:38<00:00,  4.92s/it]\n",
      "100%|██████████| 20/20 [01:38<00:00,  4.90s/it]\n",
      "100%|██████████| 20/20 [02:02<00:00,  6.13s/it]\n",
      "100%|██████████| 20/20 [02:06<00:00,  6.33s/it]\n",
      "100%|██████████| 20/20 [01:38<00:00,  4.93s/it]\n",
      "100%|██████████| 20/20 [02:02<00:00,  6.13s/it]\n",
      "100%|██████████| 20/20 [02:02<00:00,  6.12s/it]\n",
      "100%|██████████| 20/20 [02:09<00:00,  6.45s/it]\n",
      "100%|██████████| 20/20 [01:38<00:00,  4.95s/it]\n",
      "100%|██████████| 20/20 [01:41<00:00,  5.07s/it]\n",
      "100%|██████████| 20/20 [01:42<00:00,  5.14s/it]\n",
      "100%|██████████| 20/20 [02:00<00:00,  6.03s/it]\n",
      "100%|██████████| 20/20 [01:35<00:00,  4.78s/it]\n",
      "100%|██████████| 20/20 [01:38<00:00,  4.91s/it]\n",
      "100%|██████████| 20/20 [01:41<00:00,  5.07s/it]\n",
      "100%|██████████| 20/20 [01:57<00:00,  5.89s/it]\n"
     ]
    }
   ],
   "source": [
    "all_motifs = glob.glob('MotifGraph/c*.txt')\n",
    "criterion = torch.nn.CrossEntropyLoss()\n",
    "for each in all_motifs:\n",
    "    file = each.split('/')[1].split('_')[0]\n",
    "    loader = DataLoad(file,True)\n",
    "    out_file = each.split('.tx')[0] + '_gat.pt'\n",
    "    model = GAT(loader)\n",
    "    edge_index = EdgeLoader(each)\n",
    "    optimizer = torch.optim.Adam(model.parameters(), lr=0.005)\n",
    "    for _ in tqdm(range(20)):\n",
    "        optimizer.zero_grad()  # Clear gradients.\n",
    "        out = model(loader.x, edge_index)  # Perform a single forward pass.\n",
    "        loss = criterion(out[loader.train_mask], loader.y[loader.train_mask])  # Compute the loss solely based on the training nodes.\n",
    "        loss.backward()  # Derive gradients.\n",
    "        optimizer.step()  # Update parameters based on gradients.\n",
    "        torch.save(model.state_dict(), out_file)    "
   ]
  },
  {
   "cell_type": "code",
   "execution_count": 17,
   "metadata": {},
   "outputs": [],
   "source": [
    "def EvaluateModel(loader,edge_file):\n",
    "    model = GAT(loader)\n",
    "    edge_index = EdgeLoader(edge_file)\n",
    "    model_name = edge_file.split('.tx')[0] + '_gat.pt'\n",
    "    model.load_state_dict(torch.load(model_name))\n",
    "    out = model(loader.x,edge_index).detach().numpy()\n",
    "    total = len(loader.test)\n",
    "    correct = 0\n",
    "    for each in loader.test:\n",
    "        idx = np.argmax(out[each])\n",
    "        if idx == loader.y[each]:\n",
    "            correct += 1\n",
    "    score = correct/total \n",
    "    return score"
   ]
  },
  {
   "cell_type": "code",
   "execution_count": 22,
   "metadata": {},
   "outputs": [
    {
     "name": "stdout",
     "output_type": "stream",
     "text": [
      "The accuracy of model in graph MotifGraph/citeseer_3_motif_0.2.txt is 0.6696696696696697\n",
      "The accuracy of model in graph MotifGraph/citeseer_3_motif_0.4.txt is 0.694980694980695\n",
      "The accuracy of model in graph MotifGraph/citeseer_3_motif_0.6.txt is 0.6984126984126984\n",
      "The accuracy of model in graph MotifGraph/citeseer_3_motif_0.8.txt is 0.7065637065637066\n",
      "The accuracy of model in graph MotifGraph/citeseer_4_motif_0.2.txt is 0.676962676962677\n",
      "The accuracy of model in graph MotifGraph/citeseer_4_motif_0.4.txt is 0.6675246675246675\n",
      "The accuracy of model in graph MotifGraph/citeseer_4_motif_0.6.txt is 0.6825396825396826\n",
      "The accuracy of model in graph MotifGraph/citeseer_4_motif_0.8.txt is 0.6872586872586872\n",
      "The accuracy of model in graph MotifGraph/citeseer_5_motif_0.2.txt is 0.6366366366366366\n",
      "The accuracy of model in graph MotifGraph/citeseer_5_motif_0.4.txt is 0.6550836550836551\n",
      "The accuracy of model in graph MotifGraph/citeseer_5_motif_0.6.txt is 0.6640926640926641\n",
      "The accuracy of model in graph MotifGraph/citeseer_5_motif_0.8.txt is 0.6864006864006864\n",
      "The accuracy of model in graph MotifGraph/citeseer_6_motif_0.2.txt is 0.6486486486486487\n",
      "The accuracy of model in graph MotifGraph/citeseer_6_motif_0.4.txt is 0.6542256542256543\n",
      "The accuracy of model in graph MotifGraph/citeseer_6_motif_0.6.txt is 0.6563706563706564\n",
      "The accuracy of model in graph MotifGraph/citeseer_6_motif_0.8.txt is 0.6615186615186616\n",
      "The accuracy of model in graph MotifGraph/citeseer_7_motif_0.2.txt is 0.661089661089661\n",
      "The accuracy of model in graph MotifGraph/citeseer_7_motif_0.4.txt is 0.6589446589446589\n",
      "The accuracy of model in graph MotifGraph/citeseer_7_motif_0.6.txt is 0.661947661947662\n",
      "The accuracy of model in graph MotifGraph/citeseer_7_motif_0.8.txt is 0.6658086658086658\n",
      "The accuracy of model in graph MotifGraph/cora_3_motif_0.2.txt is 0.7149631190727082\n",
      "The accuracy of model in graph MotifGraph/cora_3_motif_0.4.txt is 0.7486828240252897\n",
      "The accuracy of model in graph MotifGraph/cora_3_motif_0.6.txt is 0.7265542676501581\n",
      "The accuracy of model in graph MotifGraph/cora_3_motif_0.8.txt is 0.649104320337197\n",
      "The accuracy of model in graph MotifGraph/cora_4_motif_0.2.txt is 0.6975763962065332\n",
      "The accuracy of model in graph MotifGraph/cora_4_motif_0.4.txt is 0.7323498419388831\n",
      "The accuracy of model in graph MotifGraph/cora_4_motif_0.6.txt is 0.708113804004215\n",
      "The accuracy of model in graph MotifGraph/cora_4_motif_0.8.txt is 0.7091675447839831\n",
      "The accuracy of model in graph MotifGraph/cora_5_motif_0.2.txt is 0.743940990516333\n",
      "The accuracy of model in graph MotifGraph/cora_5_motif_0.4.txt is 0.6917808219178082\n",
      "The accuracy of model in graph MotifGraph/cora_5_motif_0.6.txt is 0.7054794520547946\n",
      "The accuracy of model in graph MotifGraph/cora_5_motif_0.8.txt is 0.7075869336143309\n",
      "The accuracy of model in graph MotifGraph/cora_6_motif_0.2.txt is 0.7281348788198103\n",
      "The accuracy of model in graph MotifGraph/cora_6_motif_0.4.txt is 0.7323498419388831\n",
      "The accuracy of model in graph MotifGraph/cora_6_motif_0.6.txt is 0.7534246575342466\n",
      "The accuracy of model in graph MotifGraph/cora_6_motif_0.8.txt is 0.7413066385669126\n",
      "The accuracy of model in graph MotifGraph/cora_7_motif_0.2.txt is 0.7407797681770284\n",
      "The accuracy of model in graph MotifGraph/cora_7_motif_0.4.txt is 0.7455216016859852\n",
      "The accuracy of model in graph MotifGraph/cora_7_motif_0.6.txt is 0.7744994731296101\n",
      "The accuracy of model in graph MotifGraph/cora_7_motif_0.8.txt is 0.7297154899894626\n"
     ]
    }
   ],
   "source": [
    "for each in all_motifs:\n",
    "    file = each.split('/')[1].split('_')[0]\n",
    "    loader = DataLoad(file,True)\n",
    "    score = EvaluateModel(loader,each)\n",
    "    print('The accuracy of model in graph ' + each + ' is ' + str(score))"
   ]
  },
  {
   "cell_type": "code",
   "execution_count": 18,
   "metadata": {},
   "outputs": [
    {
     "name": "stderr",
     "output_type": "stream",
     "text": [
      "100%|██████████| 20/20 [01:58<00:00,  5.91s/it]\n",
      "100%|██████████| 20/20 [01:53<00:00,  5.68s/it]\n",
      "100%|██████████| 20/20 [01:56<00:00,  5.82s/it]\n",
      "100%|██████████| 20/20 [01:57<00:00,  5.87s/it]\n",
      "100%|██████████| 20/20 [01:51<00:00,  5.58s/it]\n",
      "100%|██████████| 20/20 [01:51<00:00,  5.60s/it]\n",
      "100%|██████████| 20/20 [01:57<00:00,  5.87s/it]\n",
      "100%|██████████| 20/20 [01:57<00:00,  5.85s/it]\n",
      "100%|██████████| 20/20 [02:03<00:00,  6.16s/it]\n",
      "100%|██████████| 20/20 [01:37<00:00,  4.86s/it]\n",
      "100%|██████████| 20/20 [01:57<00:00,  5.89s/it]\n",
      "100%|██████████| 20/20 [01:53<00:00,  5.67s/it]\n",
      "100%|██████████| 20/20 [01:52<00:00,  5.62s/it]\n",
      "100%|██████████| 20/20 [01:53<00:00,  5.69s/it]\n",
      "100%|██████████| 20/20 [01:54<00:00,  5.74s/it]\n",
      "100%|██████████| 20/20 [01:57<00:00,  5.89s/it]\n",
      "100%|██████████| 20/20 [01:52<00:00,  5.63s/it]\n",
      "100%|██████████| 20/20 [01:54<00:00,  5.71s/it]\n",
      "100%|██████████| 20/20 [01:56<00:00,  5.83s/it]\n",
      "100%|██████████| 20/20 [01:56<00:00,  5.85s/it]\n",
      "100%|██████████| 20/20 [01:55<00:00,  5.80s/it]\n",
      "100%|██████████| 20/20 [01:38<00:00,  4.91s/it]\n",
      "100%|██████████| 20/20 [01:34<00:00,  4.72s/it]\n",
      "100%|██████████| 20/20 [01:37<00:00,  4.85s/it]\n",
      "100%|██████████| 20/20 [01:38<00:00,  4.95s/it]\n",
      "100%|██████████| 20/20 [01:36<00:00,  4.83s/it]\n",
      "100%|██████████| 20/20 [01:34<00:00,  4.73s/it]\n",
      "100%|██████████| 20/20 [01:32<00:00,  4.62s/it]\n",
      "100%|██████████| 20/20 [01:34<00:00,  4.73s/it]\n",
      "100%|██████████| 20/20 [01:38<00:00,  4.91s/it]\n",
      "100%|██████████| 20/20 [01:37<00:00,  4.89s/it]\n",
      "100%|██████████| 20/20 [01:38<00:00,  4.92s/it]\n",
      "100%|██████████| 20/20 [01:28<00:00,  4.42s/it]\n",
      "100%|██████████| 20/20 [01:29<00:00,  4.47s/it]\n",
      "100%|██████████| 20/20 [01:37<00:00,  4.87s/it]\n",
      "100%|██████████| 20/20 [01:38<00:00,  4.91s/it]\n",
      "100%|██████████| 20/20 [01:37<00:00,  4.87s/it]\n",
      "100%|██████████| 20/20 [01:36<00:00,  4.82s/it]\n",
      "100%|██████████| 20/20 [01:38<00:00,  4.93s/it]\n",
      "100%|██████████| 20/20 [01:38<00:00,  4.94s/it]\n"
     ]
    }
   ],
   "source": [
    "all_motifs = glob.glob('MotifER/c*.txt')\n",
    "criterion = torch.nn.CrossEntropyLoss()\n",
    "for each in all_motifs:\n",
    "    file = each.split('/')[1].split('_')[0]\n",
    "    loader = DataLoad(file,True)\n",
    "    out_file = each.split('.tx')[0] + '_gat.pt'\n",
    "    model = GAT(loader)\n",
    "    edge_index = EdgeLoader(each)\n",
    "    optimizer = torch.optim.Adam(model.parameters(), lr=0.005)\n",
    "    for _ in tqdm(range(20)):\n",
    "        optimizer.zero_grad()  # Clear gradients.\n",
    "        out = model(loader.x, edge_index)  # Perform a single forward pass.\n",
    "        loss = criterion(out[loader.train_mask], loader.y[loader.train_mask])  # Compute the loss solely based on the training nodes.\n",
    "        loss.backward()  # Derive gradients.\n",
    "        optimizer.step()  # Update parameters based on gradients.\n",
    "        torch.save(model.state_dict(), out_file)    "
   ]
  },
  {
   "cell_type": "code",
   "execution_count": 19,
   "metadata": {},
   "outputs": [
    {
     "name": "stdout",
     "output_type": "stream",
     "text": [
      "The accuracy of model in graph MotifER/citeseer_3_erds_0.2.txt is 0.6924066924066924\n",
      "The accuracy of model in graph MotifER/citeseer_3_erds_0.4.txt is 0.7074217074217074\n",
      "The accuracy of model in graph MotifER/citeseer_3_erds_0.6.txt is 0.6966966966966966\n",
      "The accuracy of model in graph MotifER/citeseer_3_erds_0.8.txt is 0.7104247104247104\n",
      "The accuracy of model in graph MotifER/citeseer_4_erds_0.2.txt is 0.6786786786786787\n",
      "The accuracy of model in graph MotifER/citeseer_4_erds_0.4.txt is 0.6838266838266839\n",
      "The accuracy of model in graph MotifER/citeseer_4_erds_0.6.txt is 0.6731016731016731\n",
      "The accuracy of model in graph MotifER/citeseer_4_erds_0.8.txt is 0.6846846846846847\n",
      "The accuracy of model in graph MotifER/citeseer_5_erds_0.2.txt is 0.6799656799656799\n",
      "The accuracy of model in graph MotifER/cora_3_erds_0.2.txt is 0.7386722866174921\n",
      "The accuracy of model in graph MotifER/citeseer_5_erds_0.4.txt is 0.6855426855426855\n",
      "The accuracy of model in graph MotifER/citeseer_5_erds_0.6.txt is 0.6881166881166881\n",
      "The accuracy of model in graph MotifER/citeseer_5_erds_0.8.txt is 0.6851136851136851\n",
      "The accuracy of model in graph MotifER/citeseer_6_erds_0.2.txt is 0.6756756756756757\n",
      "The accuracy of model in graph MotifER/citeseer_6_erds_0.4.txt is 0.6692406692406693\n",
      "The accuracy of model in graph MotifER/citeseer_6_erds_0.6.txt is 0.6773916773916774\n",
      "The accuracy of model in graph MotifER/citeseer_6_erds_0.8.txt is 0.6761046761046761\n",
      "The accuracy of model in graph MotifER/citeseer_7_erds_0.2.txt is 0.6735306735306735\n",
      "The accuracy of model in graph MotifER/citeseer_7_erds_0.4.txt is 0.667953667953668\n",
      "The accuracy of model in graph MotifER/citeseer_7_erds_0.6.txt is 0.6662376662376662\n",
      "The accuracy of model in graph MotifER/citeseer_7_erds_0.8.txt is 0.6692406692406693\n",
      "The accuracy of model in graph MotifER/cora_3_erds_0.4.txt is 0.7270811380400422\n",
      "The accuracy of model in graph MotifER/cora_3_erds_0.6.txt is 0.720231822971549\n",
      "The accuracy of model in graph MotifER/cora_3_erds_0.8.txt is 0.7639620653319283\n",
      "The accuracy of model in graph MotifER/cora_4_erds_0.2.txt is 0.743940990516333\n",
      "The accuracy of model in graph MotifER/cora_4_erds_0.4.txt is 0.7334035827186512\n",
      "The accuracy of model in graph MotifER/cora_4_erds_0.6.txt is 0.7623814541622761\n",
      "The accuracy of model in graph MotifER/cora_4_erds_0.8.txt is 0.7402528977871443\n",
      "The accuracy of model in graph MotifER/cora_5_erds_0.2.txt is 0.7576396206533192\n",
      "The accuracy of model in graph MotifER/cora_5_erds_0.4.txt is 0.7265542676501581\n",
      "The accuracy of model in graph MotifER/cora_5_erds_0.6.txt is 0.7428872497365648\n",
      "The accuracy of model in graph MotifER/cora_5_erds_0.8.txt is 0.761854583772392\n",
      "The accuracy of model in graph MotifER/cora_6_erds_0.2.txt is 0.71390937829294\n",
      "The accuracy of model in graph MotifER/cora_6_erds_0.4.txt is 0.7639620653319283\n",
      "The accuracy of model in graph MotifER/cora_6_erds_0.6.txt is 0.7592202318229716\n",
      "The accuracy of model in graph MotifER/cora_6_erds_0.8.txt is 0.761854583772392\n",
      "The accuracy of model in graph MotifER/cora_7_erds_0.2.txt is 0.7281348788198103\n",
      "The accuracy of model in graph MotifER/cora_7_erds_0.4.txt is 0.7376185458377239\n",
      "The accuracy of model in graph MotifER/cora_7_erds_0.6.txt is 0.7502634351949421\n",
      "The accuracy of model in graph MotifER/cora_7_erds_0.8.txt is 0.7044257112750263\n"
     ]
    }
   ],
   "source": [
    "for each in all_motifs:\n",
    "    file = each.split('/')[1].split('_')[0]\n",
    "    loader = DataLoad(file,True)\n",
    "    score = EvaluateModel(loader,each)\n",
    "    print('The accuracy of model in graph ' + each + ' is ' + str(score))"
   ]
  },
  {
   "cell_type": "code",
   "execution_count": 23,
   "metadata": {},
   "outputs": [
    {
     "ename": "KeyboardInterrupt",
     "evalue": "",
     "output_type": "error",
     "traceback": [
      "\u001b[0;31m---------------------------------------------------------------------------\u001b[0m",
      "\u001b[0;31mKeyboardInterrupt\u001b[0m                         Traceback (most recent call last)",
      "Cell \u001b[0;32mIn[23], line 11\u001b[0m\n\u001b[1;32m      9\u001b[0m m \u001b[38;5;241m=\u001b[39m GetMax(each) \u001b[38;5;66;03m#Now we have the number of total nodes\u001b[39;00m\n\u001b[1;32m     10\u001b[0m m \u001b[38;5;241m=\u001b[39m m \u001b[38;5;241m+\u001b[39m \u001b[38;5;241m1\u001b[39m \u001b[38;5;241m-\u001b[39m loader\u001b[38;5;241m.\u001b[39mn_node \u001b[38;5;66;03m#This is the number of motifs\u001b[39;00m\n\u001b[0;32m---> 11\u001b[0m \u001b[43mloader\u001b[49m\u001b[38;5;241;43m.\u001b[39;49m\u001b[43mAppendDummy\u001b[49m\u001b[43m(\u001b[49m\u001b[43mm\u001b[49m\u001b[43m)\u001b[49m\n\u001b[1;32m     12\u001b[0m optimizer \u001b[38;5;241m=\u001b[39m torch\u001b[38;5;241m.\u001b[39moptim\u001b[38;5;241m.\u001b[39mAdam(model\u001b[38;5;241m.\u001b[39mparameters(), lr\u001b[38;5;241m=\u001b[39m\u001b[38;5;241m0.005\u001b[39m)\n\u001b[1;32m     13\u001b[0m \u001b[38;5;28;01mfor\u001b[39;00m _ \u001b[38;5;129;01min\u001b[39;00m \u001b[38;5;28mrange\u001b[39m(\u001b[38;5;241m50\u001b[39m):\n",
      "Cell \u001b[0;32mIn[3], line 37\u001b[0m, in \u001b[0;36mDataLoad.AppendDummy\u001b[0;34m(self, m)\u001b[0m\n\u001b[1;32m     35\u001b[0m \u001b[38;5;28;01mfor\u001b[39;00m _ \u001b[38;5;129;01min\u001b[39;00m \u001b[38;5;28mrange\u001b[39m(m):\n\u001b[1;32m     36\u001b[0m     temp\u001b[38;5;241m.\u001b[39mappend([\u001b[38;5;241m0\u001b[39m \u001b[38;5;28;01mfor\u001b[39;00m _ \u001b[38;5;129;01min\u001b[39;00m \u001b[38;5;28mrange\u001b[39m(\u001b[38;5;28mself\u001b[39m\u001b[38;5;241m.\u001b[39mn_feature)])\n\u001b[0;32m---> 37\u001b[0m temp \u001b[38;5;241m=\u001b[39m \u001b[43mtorch\u001b[49m\u001b[38;5;241;43m.\u001b[39;49m\u001b[43mtensor\u001b[49m\u001b[43m(\u001b[49m\u001b[43mtemp\u001b[49m\u001b[43m,\u001b[49m\u001b[43mdtype\u001b[49m\u001b[38;5;241;43m=\u001b[39;49m\u001b[43mtorch\u001b[49m\u001b[38;5;241;43m.\u001b[39;49m\u001b[43mfloat\u001b[49m\u001b[43m)\u001b[49m\n\u001b[1;32m     38\u001b[0m \u001b[38;5;28mself\u001b[39m\u001b[38;5;241m.\u001b[39mx \u001b[38;5;241m=\u001b[39m torch\u001b[38;5;241m.\u001b[39mcat((\u001b[38;5;28mself\u001b[39m\u001b[38;5;241m.\u001b[39mx,temp))\n\u001b[1;32m     39\u001b[0m to_add \u001b[38;5;241m=\u001b[39m torch\u001b[38;5;241m.\u001b[39mtensor([\u001b[38;5;241m-\u001b[39m\u001b[38;5;241m1\u001b[39m \u001b[38;5;28;01mfor\u001b[39;00m _ \u001b[38;5;129;01min\u001b[39;00m \u001b[38;5;28mrange\u001b[39m(m)],dtype\u001b[38;5;241m=\u001b[39mtorch\u001b[38;5;241m.\u001b[39mlong)\n",
      "\u001b[0;31mKeyboardInterrupt\u001b[0m: "
     ]
    }
   ],
   "source": [
    "all_motifs = glob.glob('MotifOrbit/c*.txt')\n",
    "criterion = torch.nn.CrossEntropyLoss()\n",
    "for each in all_motifs:\n",
    "    file = each.split('/')[1].split('_')[0]\n",
    "    loader = DataLoad(file,True)\n",
    "    out_file = each.split('.tx')[0] + '_gat.pt'\n",
    "    model = GAT(loader)\n",
    "    edge_index = EdgeLoader(each)\n",
    "    m = GetMax(each) #Now we have the number of total nodes\n",
    "    m = m + 1 - loader.n_node #This is the number of motifs\n",
    "    loader.AppendDummy(m)\n",
    "    optimizer = torch.optim.Adam(model.parameters(), lr=0.005)\n",
    "    for _ in tqdm(range(20)):\n",
    "        optimizer.zero_grad()  # Clear gradients.\n",
    "        out = model(loader.x, edge_index)  # Perform a single forward pass.\n",
    "        loss = criterion(out[loader.train_mask], loader.y[loader.train_mask])  # Compute the loss solely based on the training nodes.\n",
    "        loss.backward()  # Derive gradients.\n",
    "        optimizer.step()  # Update parameters based on gradients.\n",
    "        torch.save(model.state_dict(), out_file)  "
   ]
  },
  {
   "cell_type": "code",
   "execution_count": null,
   "metadata": {},
   "outputs": [],
   "source": [
    "for each in all_motifs:\n",
    "    file = each.split('/')[1].split('_')[0]\n",
    "    loader = DataLoad(file,True)\n",
    "    score = EvaluateModel(loader,each)\n",
    "    print('The accuracy of model in graph ' + each + ' is ' + str(score))"
   ]
  }
 ],
 "metadata": {
  "kernelspec": {
   "display_name": "Python 3 (ipykernel)",
   "language": "python",
   "name": "python3"
  },
  "language_info": {
   "codemirror_mode": {
    "name": "ipython",
    "version": 3
   },
   "file_extension": ".py",
   "mimetype": "text/x-python",
   "name": "python",
   "nbconvert_exporter": "python",
   "pygments_lexer": "ipython3",
   "version": "3.11.9"
  }
 },
 "nbformat": 4,
 "nbformat_minor": 4
}
