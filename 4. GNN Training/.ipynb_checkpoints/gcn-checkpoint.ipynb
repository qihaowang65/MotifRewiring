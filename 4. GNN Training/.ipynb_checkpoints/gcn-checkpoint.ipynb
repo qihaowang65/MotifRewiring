{
 "cells": [
  {
   "cell_type": "code",
   "execution_count": 1,
   "metadata": {},
   "outputs": [],
   "source": [
    "import torch\n",
    "from torch.nn import Linear\n",
    "from torch_geometric.nn import GCNConv, GATConv\n",
    "import torch.nn.functional as F \n",
    "import numpy as np \n",
    "import pickle\n",
    "import time"
   ]
  },
  {
   "cell_type": "code",
   "execution_count": 2,
   "metadata": {},
   "outputs": [
    {
     "data": {
      "text/plain": [
       "<torch._C.Generator at 0x7fc6bf592e90>"
      ]
     },
     "execution_count": 2,
     "metadata": {},
     "output_type": "execute_result"
    }
   ],
   "source": [
    "torch.manual_seed(1234)"
   ]
  },
  {
   "cell_type": "code",
   "execution_count": 3,
   "metadata": {},
   "outputs": [],
   "source": [
    "class DataLoad():\n",
    "    def __init__(self,file,feature=False):\n",
    "        with open(file+'.train','rb') as fp:\n",
    "            self.n_class,train_mask = pickle.load(fp)\n",
    "        self.train_mask = torch.tensor(train_mask,dtype=torch.bool)\n",
    "        self.n_node = len(self.train_mask)\n",
    "        with open(file+'.labels','r+') as fp:\n",
    "            lines = fp.readlines()\n",
    "        self.y = []\n",
    "        for each in lines:\n",
    "            info = each.split(' ')\n",
    "            label = info[1]\n",
    "            self.y.append(int(label))\n",
    "        self.y = torch.tensor(self.y,dtype=torch.long)\n",
    "        if feature == False:\n",
    "            self.x = np.zeros((self.n_node,self.n_node))\n",
    "            for i in range(self.n_node):\n",
    "                self.x[i][i] = 1\n",
    "            self.x = torch.tensor(self.x,dtype=torch.float)\n",
    "            self.n_feature = self.n_node\n",
    "        else:\n",
    "            with open(file+'.feat','rb') as fp:\n",
    "                self.x = torch.tensor(pickle.load(fp),dtype=torch.float)\n",
    "            self.n_feature = len(self.x[0])\n",
    "            \n",
    "        self.test = []\n",
    "        for i in range(self.n_node):\n",
    "            if self.train_mask[i] == False:\n",
    "                self.test.append(i)\n",
    "    \n",
    "    def AppendDummy(self,m):\n",
    "        to_add = torch.tensor([False for _ in range(m)],dtype=torch.bool)\n",
    "        self.train_mask = torch.cat((self.train_mask,to_add))\n",
    "        temp = []\n",
    "        for _ in range(m):\n",
    "            temp.append([0 for _ in range(self.n_feature)])\n",
    "        temp = torch.tensor(temp,dtype=torch.float)\n",
    "        self.x = torch.cat((self.x,temp))\n",
    "        to_add = torch.tensor([-1 for _ in range(m)],dtype=torch.long)\n",
    "        self.y = torch.cat((self.y,to_add))"
   ]
  },
  {
   "cell_type": "code",
   "execution_count": 4,
   "metadata": {},
   "outputs": [],
   "source": [
    "def EdgeLoader(file):\n",
    "    with open(file,'r+') as fp:\n",
    "        lines = fp.readlines()\n",
    "    ret = []\n",
    "    for each in lines:\n",
    "        info = each.split(' ')\n",
    "        src = int(info[0])\n",
    "        dst = int(info[1])\n",
    "        ret.append([src,dst])\n",
    "    ret = np.array(ret)\n",
    "    return torch.tensor(ret.T,dtype=torch.int)"
   ]
  },
  {
   "cell_type": "code",
   "execution_count": 5,
   "metadata": {},
   "outputs": [],
   "source": [
    "class GCN(torch.nn.Module):\n",
    "    def __init__(self,DataLoader):\n",
    "        super(GCN, self).__init__()\n",
    "        self.conv1 = GCNConv(DataLoader.n_feature, int(DataLoader.n_feature/4))\n",
    "        self.conv2 = GCNConv(int(DataLoader.n_feature/4), int(DataLoader.n_feature/8))\n",
    "        self.classifier = Linear(int(DataLoader.n_feature/8), DataLoader.n_class)\n",
    "\n",
    "    def forward(self, x, edge_index):\n",
    "        h = self.conv1(x, edge_index)\n",
    "        h = F.relu(h)\n",
    "        h = self.conv2(h, edge_index)\n",
    "        h = F.relu(h)  \n",
    "        out = self.classifier(h)\n",
    "        return out\n"
   ]
  },
  {
   "cell_type": "code",
   "execution_count": 6,
   "metadata": {},
   "outputs": [],
   "source": [
    "def TrainAllModel(file):\n",
    "    loader = DataLoad(file)\n",
    "    suffix = ['.mtx','_relwire.txt','_swing.txt','_er.txt','_away.txt']\n",
    "    criterion = torch.nn.CrossEntropyLoss()\n",
    "    for each in suffix:\n",
    "        edge_file = file + each\n",
    "        out_file = edge_file.split('.')[0] + '.pt'\n",
    "        model = GCN(loader)\n",
    "        edge_index = EdgeLoader(edge_file)\n",
    "        optimizer = torch.optim.Adam(model.parameters(), lr=0.005)\n",
    "        start = time.time()\n",
    "        for _ in range(50):\n",
    "            optimizer.zero_grad()  # Clear gradients.\n",
    "            out = model(loader.x, edge_index)  # Perform a single forward pass.\n",
    "            loss = criterion(out[loader.train_mask], loader.y[loader.train_mask])  # Compute the loss solely based on the training nodes.\n",
    "            loss.backward()  # Derive gradients.\n",
    "            optimizer.step()  # Update parameters based on gradients.\n",
    "            torch.save(model.state_dict(), out_file)  \n",
    "        print(\"Running time for \" + edge_file + \":\" + str(time.time()-start))  "
   ]
  },
  {
   "cell_type": "code",
   "execution_count": 7,
   "metadata": {},
   "outputs": [],
   "source": [
    "def EvaluateModel(loader,edge_file):\n",
    "    model = GCN(loader)\n",
    "    edge_index = EdgeLoader(edge_file)\n",
    "    model_name = edge_file.split('.')[0] + '.pt'\n",
    "    model.load_state_dict(torch.load(model_name))\n",
    "    out = model(loader.x,edge_index).detach().numpy()\n",
    "    total = len(loader.test)\n",
    "    correct = 0\n",
    "    for each in loader.test:\n",
    "        idx = np.argmax(out[each])\n",
    "        if idx == loader.y[each]:\n",
    "            correct += 1\n",
    "    score = correct/total \n",
    "    return score"
   ]
  },
  {
   "cell_type": "code",
   "execution_count": 8,
   "metadata": {},
   "outputs": [],
   "source": [
    "def TestAllModel(file):\n",
    "    loader = DataLoad(file)\n",
    "    suffix = ['.mtx','_relwire.txt','_swing.txt','_er.txt','_away.txt',\"_laser\"]\n",
    "    for each in suffix:\n",
    "        edge_file = file + each\n",
    "        score = EvaluateModel(loader,edge_file)\n",
    "        print('The accuracy of model in graph ' + edge_file + ' is ' + str(score))"
   ]
  },
  {
   "cell_type": "code",
   "execution_count": 9,
   "metadata": {},
   "outputs": [],
   "source": [
    "def TrainAndTest(file):\n",
    "    TrainAllModel(file)\n",
    "    TestAllModel(file)"
   ]
  },
  {
   "cell_type": "code",
   "execution_count": 20,
   "metadata": {},
   "outputs": [],
   "source": [
    "def TrainOneModel(file,suf):\n",
    "    loader = DataLoad(file)\n",
    "    suffix = [suf]\n",
    "    criterion = torch.nn.CrossEntropyLoss()\n",
    "    for each in suffix:\n",
    "        edge_file = file + each\n",
    "        out_file = edge_file.split('.')[0] + '.pt'\n",
    "        model = GCN(loader)\n",
    "        edge_index = EdgeLoader(edge_file)\n",
    "        optimizer = torch.optim.Adam(model.parameters(), lr=0.005)\n",
    "        start = time.time()\n",
    "        for _ in range(50):\n",
    "            optimizer.zero_grad()  # Clear gradients.\n",
    "            out = model(loader.x, edge_index)  # Perform a single forward pass.\n",
    "            loss = criterion(out[loader.train_mask], loader.y[loader.train_mask])  # Compute the loss solely based on the training nodes.\n",
    "            loss.backward()  # Derive gradients.\n",
    "            optimizer.step()  # Update parameters based on gradients.\n",
    "            torch.save(model.state_dict(), out_file)  \n",
    "        print(\"Running time for \" + edge_file + \":\" + str(time.time()-start))  \n",
    "\n",
    "def TestOneModel(file,suf):\n",
    "    loader = DataLoad(file)\n",
    "    suffix = [suf]\n",
    "    for each in suffix:\n",
    "        edge_file = file + each\n",
    "        score = EvaluateModel(loader,edge_file)\n",
    "        print('The accuracy of model in graph ' + edge_file + ' is ' + str(score))\n",
    "\n",
    "def TrainAndTestOne(file,suf):\n",
    "    TrainOneModel(file,suf)\n",
    "    TestOneModel(file,suf)"
   ]
  },
  {
   "cell_type": "code",
   "execution_count": 17,
   "metadata": {},
   "outputs": [
    {
     "name": "stdout",
     "output_type": "stream",
     "text": [
      "The accuracy of model in graph book.mtx is 0.8157894736842105\n",
      "The accuracy of model in graph book_relwire.txt is 0.6447368421052632\n",
      "The accuracy of model in graph book_swing.txt is 0.8289473684210527\n",
      "The accuracy of model in graph book_er.txt is 0.8289473684210527\n",
      "The accuracy of model in graph book_away.txt is 0.8157894736842105\n"
     ]
    }
   ],
   "source": [
    "TrainAndTest('book')"
   ]
  },
  {
   "cell_type": "code",
   "execution_count": 18,
   "metadata": {},
   "outputs": [
    {
     "name": "stdout",
     "output_type": "stream",
     "text": [
      "The accuracy of model in graph football.mtx is 0.7058823529411765\n",
      "The accuracy of model in graph football_relwire.txt is 0.7647058823529411\n",
      "The accuracy of model in graph football_swing.txt is 0.8\n",
      "The accuracy of model in graph football_er.txt is 0.6352941176470588\n",
      "The accuracy of model in graph football_away.txt is 0.8823529411764706\n"
     ]
    }
   ],
   "source": [
    "TrainAndTest('football')"
   ]
  },
  {
   "cell_type": "code",
   "execution_count": 32,
   "metadata": {},
   "outputs": [
    {
     "name": "stdout",
     "output_type": "stream",
     "text": [
      "Running time for book.mtx:0.8253555297851562\n",
      "Running time for book_relwire.txt:0.8472199440002441\n",
      "Running time for book_swing.txt:0.759289026260376\n",
      "Running time for book_er.txt:0.7153055667877197\n",
      "Running time for book_away.txt:0.6540465354919434\n"
     ]
    }
   ],
   "source": [
    "TrainAllModel('book')"
   ]
  },
  {
   "cell_type": "code",
   "execution_count": 31,
   "metadata": {},
   "outputs": [
    {
     "name": "stdout",
     "output_type": "stream",
     "text": [
      "Running time for karate.mtx:0.6257894039154053\n",
      "Running time for karate_relwire.txt:0.5923221111297607\n",
      "Running time for karate_swing.txt:0.5691390037536621\n",
      "Running time for karate_er.txt:0.5876691341400146\n",
      "Running time for karate_away.txt:0.6073927879333496\n"
     ]
    }
   ],
   "source": [
    "TrainAllModel('karate')"
   ]
  },
  {
   "cell_type": "code",
   "execution_count": 30,
   "metadata": {},
   "outputs": [
    {
     "name": "stdout",
     "output_type": "stream",
     "text": [
      "Running time for football.mtx:0.7631630897521973\n",
      "Running time for football_relwire.txt:0.8175332546234131\n",
      "Running time for football_swing.txt:0.7633411884307861\n",
      "Running time for football_er.txt:0.9730856418609619\n",
      "Running time for football_away.txt:0.7156040668487549\n"
     ]
    }
   ],
   "source": [
    "TrainAllModel('football')"
   ]
  },
  {
   "cell_type": "code",
   "execution_count": 28,
   "metadata": {},
   "outputs": [
    {
     "name": "stdout",
     "output_type": "stream",
     "text": [
      "Running time for cora_away.txt:20.58921480178833\n",
      "Running time for cora_er.txt:20.527925729751587\n"
     ]
    }
   ],
   "source": [
    "TrainAllModel('cora')"
   ]
  },
  {
   "cell_type": "code",
   "execution_count": 26,
   "metadata": {},
   "outputs": [
    {
     "name": "stdout",
     "output_type": "stream",
     "text": [
      "Running time for citeseer_away.txt:31.778164386749268\n",
      "Running time for citeseer_er.txt:31.160691261291504\n"
     ]
    }
   ],
   "source": [
    "TrainAllModel('citeseer')"
   ]
  },
  {
   "cell_type": "code",
   "execution_count": 34,
   "metadata": {},
   "outputs": [
    {
     "name": "stdout",
     "output_type": "stream",
     "text": [
      "Running time for ./MotifER/book_5_erds_0.2.txt: 0.34540653228759766\n",
      "Running time for ./MotifER/football_5_erds_0.2.txt: 0.36682677268981934\n",
      "Running time for ./MotifER/cora_5_erds_0.2.txt: 11.02383041381836\n",
      "Running time for ./MotifER/karate_5_erds_0.2.txt: 0.28610944747924805\n",
      "Running time for ./MotifER/citeseer_5_erds_0.2.txt: 23.095571756362915\n"
     ]
    }
   ],
   "source": [
    "files = ['./MotifER/book_5_erds_0.2.txt','./MotifER/football_5_erds_0.2.txt','./MotifER/cora_5_erds_0.2.txt','./MotifER/karate_5_erds_0.2.txt','./MotifER/citeseer_5_erds_0.2.txt']\n",
    "criterion = torch.nn.CrossEntropyLoss()\n",
    "for each in files:\n",
    "    edge_file = each\n",
    "    file = each.split('_')[0].split('/')[-1]\n",
    "    loader = DataLoad(file)\n",
    "    #out_file = edge_file.split('.')[0] + '.pt'\n",
    "    model = GCN(loader)\n",
    "    edge_index = EdgeLoader(edge_file)\n",
    "    optimizer = torch.optim.Adam(model.parameters(), lr=0.005)\n",
    "    start = time.time()\n",
    "    for _ in range(50):\n",
    "        optimizer.zero_grad()  # Clear gradients.\n",
    "        out = model(loader.x, edge_index)  # Perform a single forward pass.\n",
    "        loss = criterion(out[loader.train_mask], loader.y[loader.train_mask])  # Compute the loss solely based on the training nodes.\n",
    "        loss.backward()  # Derive gradients.\n",
    "        optimizer.step()  # Update parameters based on gradients.\n",
    "        #torch.save(model.state_dict(), out_file)  \n",
    "    print(\"Running time for \" + edge_file + \": \" + str(time.time()-start))  "
   ]
  },
  {
   "cell_type": "code",
   "execution_count": 35,
   "metadata": {},
   "outputs": [
    {
     "name": "stdout",
     "output_type": "stream",
     "text": [
      "Running time for ./MotifGap/book_5_gap.txt: 0.3669302463531494\n",
      "Running time for ./MotifGap/football_5_gap.txt: 0.40163445472717285\n",
      "Running time for ./MotifGap/cora_5_gap.txt: 20.29318881034851\n",
      "Running time for ./MotifGap/karate_5_gap.txt: 0.2596139907836914\n",
      "Running time for ./MotifGap/citeseer_5_gap.txt: 19.373897552490234\n"
     ]
    }
   ],
   "source": [
    "files = ['./MotifGap/book_5_gap.txt','./MotifGap/football_5_gap.txt','./MotifGap/cora_5_gap.txt','./MotifGap/karate_5_gap.txt','./MotifGap/citeseer_5_gap.txt']\n",
    "criterion = torch.nn.CrossEntropyLoss()\n",
    "for each in files:\n",
    "    edge_file = each\n",
    "    file = each.split('_')[0].split('/')[-1]\n",
    "    loader = DataLoad(file)\n",
    "    #out_file = edge_file.split('.')[0] + '.pt'\n",
    "    model = GCN(loader)\n",
    "    edge_index = EdgeLoader(edge_file)\n",
    "    optimizer = torch.optim.Adam(model.parameters(), lr=0.005)\n",
    "    start = time.time()\n",
    "    for _ in range(50):\n",
    "        optimizer.zero_grad()  # Clear gradients.\n",
    "        out = model(loader.x, edge_index)  # Perform a single forward pass.\n",
    "        loss = criterion(out[loader.train_mask], loader.y[loader.train_mask])  # Compute the loss solely based on the training nodes.\n",
    "        loss.backward()  # Derive gradients.\n",
    "        optimizer.step()  # Update parameters based on gradients.\n",
    "        #torch.save(model.state_dict(), out_file)  \n",
    "    print(\"Running time for \" + edge_file + \": \" + str(time.time()-start))  "
   ]
  },
  {
   "cell_type": "code",
   "execution_count": 36,
   "metadata": {},
   "outputs": [
    {
     "name": "stdout",
     "output_type": "stream",
     "text": [
      "Running time for ./MotifClique/book_5_clique.txt: 0.4438934326171875\n",
      "Running time for ./MotifClique/football_5_clique.txt: 0.5026073455810547\n",
      "Running time for ./MotifClique/cora_5_clique.txt: 37.29936480522156\n",
      "Running time for ./MotifClique/karate_5_clique.txt: 0.24621248245239258\n",
      "Running time for ./MotifClique/citeseer_5_clique.txt: 25.63544726371765\n"
     ]
    }
   ],
   "source": [
    "files = ['./MotifClique/book_5_clique.txt','./MotifClique/football_5_clique.txt','./MotifClique/cora_5_clique.txt','./MotifClique/karate_5_clique.txt','./MotifClique/citeseer_5_clique.txt']\n",
    "criterion = torch.nn.CrossEntropyLoss()\n",
    "for each in files:\n",
    "    edge_file = each\n",
    "    file = each.split('_')[0].split('/')[-1]\n",
    "    loader = DataLoad(file)\n",
    "    #out_file = edge_file.split('.')[0] + '.pt'\n",
    "    model = GCN(loader)\n",
    "    edge_index = EdgeLoader(edge_file)\n",
    "    optimizer = torch.optim.Adam(model.parameters(), lr=0.005)\n",
    "    start = time.time()\n",
    "    for _ in range(50):\n",
    "        optimizer.zero_grad()  # Clear gradients.\n",
    "        out = model(loader.x, edge_index)  # Perform a single forward pass.\n",
    "        loss = criterion(out[loader.train_mask], loader.y[loader.train_mask])  # Compute the loss solely based on the training nodes.\n",
    "        loss.backward()  # Derive gradients.\n",
    "        optimizer.step()  # Update parameters based on gradients.\n",
    "        #torch.save(model.state_dict(), out_file)  \n",
    "    print(\"Running time for \" + edge_file + \": \" + str(time.time()-start))  "
   ]
  },
  {
   "cell_type": "code",
   "execution_count": 10,
   "metadata": {},
   "outputs": [],
   "source": [
    "import glob "
   ]
  },
  {
   "cell_type": "code",
   "execution_count": 11,
   "metadata": {},
   "outputs": [],
   "source": [
    "def EvaluateModel(loader,edge_file):\n",
    "    model = GCN(loader)\n",
    "    edge_index = EdgeLoader(edge_file)\n",
    "    model_name = edge_file.split('.tx')[0] + '.pt'\n",
    "    model.load_state_dict(torch.load(model_name))\n",
    "    out = model(loader.x,edge_index).detach().numpy()\n",
    "    total = len(loader.test)\n",
    "    correct = 0\n",
    "    for each in loader.test:\n",
    "        idx = np.argmax(out[each])\n",
    "        if idx == loader.y[each]:\n",
    "            correct += 1\n",
    "    score = correct/total \n",
    "    return score\n",
    "    "
   ]
  },
  {
   "cell_type": "markdown",
   "metadata": {},
   "source": [
    "# Motif ER Test"
   ]
  },
  {
   "cell_type": "code",
   "execution_count": 12,
   "metadata": {},
   "outputs": [],
   "source": [
    "all_motifs = glob.glob('MotifER/*.txt')\n",
    "criterion = torch.nn.CrossEntropyLoss()\n",
    "for each in all_motifs:\n",
    "    file = each.split('/')[1].split('_')[0]\n",
    "    loader = DataLoad(file)\n",
    "    out_file = each.split('.tx')[0] + '.pt'\n",
    "    model = GCN(loader)\n",
    "    edge_index = EdgeLoader(each)\n",
    "    optimizer = torch.optim.Adam(model.parameters(), lr=0.005)\n",
    "    for _ in range(50):\n",
    "        optimizer.zero_grad()  # Clear gradients.\n",
    "        out = model(loader.x, edge_index)  # Perform a single forward pass.\n",
    "        loss = criterion(out[loader.train_mask], loader.y[loader.train_mask])  # Compute the loss solely based on the training nodes.\n",
    "        loss.backward()  # Derive gradients.\n",
    "        optimizer.step()  # Update parameters based on gradients.\n",
    "        torch.save(model.state_dict(), out_file)    "
   ]
  },
  {
   "cell_type": "code",
   "execution_count": 15,
   "metadata": {},
   "outputs": [
    {
     "name": "stdout",
     "output_type": "stream",
     "text": [
      "The accuracy of model in graph MotifER/book_3_erds_0.2.txt is 0.8157894736842105\n",
      "The accuracy of model in graph MotifER/book_3_erds_0.4.txt is 0.8289473684210527\n",
      "The accuracy of model in graph MotifER/book_3_erds_0.6.txt is 0.8289473684210527\n",
      "The accuracy of model in graph MotifER/book_3_erds_0.8.txt is 0.8289473684210527\n",
      "The accuracy of model in graph MotifER/book_4_erds_0.2.txt is 0.8157894736842105\n",
      "The accuracy of model in graph MotifER/book_4_erds_0.4.txt is 0.8157894736842105\n",
      "The accuracy of model in graph MotifER/book_4_erds_0.6.txt is 0.8289473684210527\n",
      "The accuracy of model in graph MotifER/book_4_erds_0.8.txt is 0.8157894736842105\n",
      "The accuracy of model in graph MotifER/book_5_erds_0.2.txt is 0.8157894736842105\n",
      "The accuracy of model in graph MotifER/book_5_erds_0.4.txt is 0.8026315789473685\n",
      "The accuracy of model in graph MotifER/book_5_erds_0.6.txt is 0.8157894736842105\n",
      "The accuracy of model in graph MotifER/book_5_erds_0.8.txt is 0.8157894736842105\n",
      "The accuracy of model in graph MotifER/book_6_erds_0.2.txt is 0.8157894736842105\n",
      "The accuracy of model in graph MotifER/book_6_erds_0.4.txt is 0.8157894736842105\n",
      "The accuracy of model in graph MotifER/book_6_erds_0.6.txt is 0.8157894736842105\n",
      "The accuracy of model in graph MotifER/book_6_erds_0.8.txt is 0.8157894736842105\n",
      "The accuracy of model in graph MotifER/book_7_erds_0.2.txt is 0.8421052631578947\n",
      "The accuracy of model in graph MotifER/book_7_erds_0.4.txt is 0.868421052631579\n",
      "The accuracy of model in graph MotifER/book_7_erds_0.6.txt is 0.8421052631578947\n",
      "The accuracy of model in graph MotifER/book_7_erds_0.8.txt is 0.8421052631578947\n",
      "The accuracy of model in graph MotifER/book_8_erds_0.2.txt is 0.8289473684210527\n",
      "The accuracy of model in graph MotifER/book_8_erds_0.4.txt is 0.8289473684210527\n",
      "The accuracy of model in graph MotifER/book_8_erds_0.6.txt is 0.7763157894736842\n",
      "The accuracy of model in graph MotifER/book_8_erds_0.8.txt is 0.8026315789473685\n",
      "The accuracy of model in graph MotifER/football_3_erds_0.2.txt is 0.7764705882352941\n",
      "The accuracy of model in graph MotifER/football_3_erds_0.4.txt is 0.7058823529411765\n",
      "The accuracy of model in graph MotifER/football_3_erds_0.6.txt is 0.8588235294117647\n",
      "The accuracy of model in graph MotifER/football_3_erds_0.8.txt is 0.8117647058823529\n",
      "The accuracy of model in graph MotifER/football_4_erds_0.2.txt is 0.6588235294117647\n",
      "The accuracy of model in graph MotifER/football_4_erds_0.4.txt is 0.7529411764705882\n",
      "The accuracy of model in graph MotifER/football_4_erds_0.6.txt is 0.8823529411764706\n",
      "The accuracy of model in graph MotifER/football_4_erds_0.8.txt is 0.7058823529411765\n",
      "The accuracy of model in graph MotifER/football_5_erds_0.2.txt is 0.7411764705882353\n",
      "The accuracy of model in graph MotifER/football_5_erds_0.4.txt is 0.8117647058823529\n",
      "The accuracy of model in graph MotifER/football_5_erds_0.6.txt is 0.611764705882353\n",
      "The accuracy of model in graph MotifER/football_5_erds_0.8.txt is 0.6941176470588235\n",
      "The accuracy of model in graph MotifER/football_6_erds_0.2.txt is 0.15294117647058825\n",
      "The accuracy of model in graph MotifER/football_6_erds_0.4.txt is 0.43529411764705883\n",
      "The accuracy of model in graph MotifER/football_6_erds_0.6.txt is 0.6941176470588235\n",
      "The accuracy of model in graph MotifER/football_6_erds_0.8.txt is 0.7764705882352941\n",
      "The accuracy of model in graph MotifER/football_7_erds_0.2.txt is 0.6705882352941176\n",
      "The accuracy of model in graph MotifER/football_7_erds_0.4.txt is 0.7294117647058823\n",
      "The accuracy of model in graph MotifER/football_7_erds_0.6.txt is 0.5294117647058824\n",
      "The accuracy of model in graph MotifER/football_7_erds_0.8.txt is 0.6\n",
      "The accuracy of model in graph MotifER/football_8_erds_0.2.txt is 0.7411764705882353\n",
      "The accuracy of model in graph MotifER/football_8_erds_0.4.txt is 0.6823529411764706\n",
      "The accuracy of model in graph MotifER/football_8_erds_0.6.txt is 0.7058823529411765\n",
      "The accuracy of model in graph MotifER/football_8_erds_0.8.txt is 0.7529411764705882\n",
      "The accuracy of model in graph MotifER/karate_3_erds_0.2.txt is 0.96\n",
      "The accuracy of model in graph MotifER/karate_3_erds_0.4.txt is 0.48\n",
      "The accuracy of model in graph MotifER/karate_3_erds_0.6.txt is 1.0\n",
      "The accuracy of model in graph MotifER/karate_3_erds_0.8.txt is 0.96\n",
      "The accuracy of model in graph MotifER/karate_5_erds_0.2.txt is 0.88\n",
      "The accuracy of model in graph MotifER/karate_5_erds_0.4.txt is 0.88\n",
      "The accuracy of model in graph MotifER/karate_5_erds_0.6.txt is 0.72\n",
      "The accuracy of model in graph MotifER/karate_5_erds_0.8.txt is 0.88\n",
      "The accuracy of model in graph MotifER/karate_6_erds_0.2.txt is 0.92\n",
      "The accuracy of model in graph MotifER/karate_6_erds_0.4.txt is 0.48\n",
      "The accuracy of model in graph MotifER/karate_6_erds_0.6.txt is 0.96\n",
      "The accuracy of model in graph MotifER/karate_6_erds_0.8.txt is 1.0\n",
      "The accuracy of model in graph MotifER/karate_7_erds_0.2.txt is 1.0\n",
      "The accuracy of model in graph MotifER/karate_7_erds_0.4.txt is 0.96\n",
      "The accuracy of model in graph MotifER/karate_7_erds_0.6.txt is 1.0\n",
      "The accuracy of model in graph MotifER/karate_7_erds_0.8.txt is 1.0\n",
      "The accuracy of model in graph MotifER/karate_8_erds_0.2.txt is 1.0\n",
      "The accuracy of model in graph MotifER/karate_8_erds_0.4.txt is 0.96\n",
      "The accuracy of model in graph MotifER/karate_8_erds_0.6.txt is 1.0\n",
      "The accuracy of model in graph MotifER/karate_8_erds_0.8.txt is 0.48\n"
     ]
    }
   ],
   "source": [
    "for each in all_motifs:\n",
    "    file = each.split('/')[1].split('_')[0]\n",
    "    loader = DataLoad(file)\n",
    "    score = EvaluateModel(loader,each)\n",
    "    print('The accuracy of model in graph ' + each + ' is ' + str(score))"
   ]
  },
  {
   "cell_type": "code",
   "execution_count": 12,
   "metadata": {},
   "outputs": [],
   "source": [
    "from tqdm import tqdm"
   ]
  },
  {
   "cell_type": "code",
   "execution_count": 15,
   "metadata": {},
   "outputs": [
    {
     "name": "stderr",
     "output_type": "stream",
     "text": [
      "  0%|          | 0/20 [00:00<?, ?it/s]"
     ]
    },
    {
     "name": "stderr",
     "output_type": "stream",
     "text": [
      "100%|██████████| 20/20 [00:00<00:00, 49.98it/s]\n",
      "100%|██████████| 20/20 [00:00<00:00, 123.84it/s]\n",
      "100%|██████████| 20/20 [00:00<00:00, 125.06it/s]\n",
      "100%|██████████| 20/20 [00:00<00:00, 114.75it/s]\n",
      "100%|██████████| 20/20 [00:00<00:00, 123.68it/s]\n",
      "100%|██████████| 20/20 [00:00<00:00, 106.61it/s]\n",
      "100%|██████████| 20/20 [00:11<00:00,  1.81it/s]\n",
      "100%|██████████| 20/20 [00:08<00:00,  2.39it/s]\n",
      "100%|██████████| 20/20 [00:09<00:00,  2.15it/s]\n",
      "100%|██████████| 20/20 [00:10<00:00,  1.99it/s]\n",
      "100%|██████████| 20/20 [00:08<00:00,  2.34it/s]\n",
      "100%|██████████| 20/20 [00:04<00:00,  4.31it/s]\n",
      "100%|██████████| 20/20 [00:04<00:00,  4.18it/s]\n",
      "100%|██████████| 20/20 [00:04<00:00,  4.51it/s]\n",
      "100%|██████████| 20/20 [00:02<00:00,  7.20it/s]\n",
      "100%|██████████| 20/20 [00:02<00:00,  8.89it/s]\n",
      "100%|██████████| 20/20 [00:00<00:00, 130.51it/s]\n",
      "100%|██████████| 20/20 [00:00<00:00, 113.60it/s]\n",
      "100%|██████████| 20/20 [00:00<00:00, 96.38it/s]\n",
      "100%|██████████| 20/20 [00:00<00:00, 108.58it/s]\n",
      "100%|██████████| 20/20 [00:00<00:00, 102.99it/s]\n",
      "100%|██████████| 20/20 [00:00<00:00, 125.75it/s]\n",
      "100%|██████████| 20/20 [00:00<00:00, 145.73it/s]\n",
      "100%|██████████| 20/20 [00:00<00:00, 137.96it/s]\n",
      "100%|██████████| 20/20 [00:00<00:00, 138.00it/s]\n",
      "100%|██████████| 20/20 [00:00<00:00, 162.43it/s]\n",
      "100%|██████████| 20/20 [00:00<00:00, 162.87it/s]\n"
     ]
    },
    {
     "name": "stdout",
     "output_type": "stream",
     "text": [
      "The accuracy of model in graph MotifClique/book_3_clique.txt is 0.8157894736842105\n",
      "The accuracy of model in graph MotifClique/book_4_clique.txt is 0.8289473684210527\n",
      "The accuracy of model in graph MotifClique/book_5_clique.txt is 0.40789473684210525\n",
      "The accuracy of model in graph MotifClique/book_6_clique.txt is 0.868421052631579\n",
      "The accuracy of model in graph MotifClique/book_7_clique.txt is 0.8421052631578947\n",
      "The accuracy of model in graph MotifClique/book_8_clique.txt is 0.8552631578947368\n",
      "The accuracy of model in graph MotifClique/citeseer_3_clique.txt is 0.7211497211497212\n",
      "The accuracy of model in graph MotifClique/citeseer_4_clique.txt is 0.7044187044187045\n",
      "The accuracy of model in graph MotifClique/citeseer_5_clique.txt is 0.6954096954096954\n",
      "The accuracy of model in graph MotifClique/citeseer_6_clique.txt is 0.7018447018447018\n",
      "The accuracy of model in graph MotifClique/citeseer_7_clique.txt is 0.6924066924066924\n",
      "The accuracy of model in graph MotifClique/cora_3_clique.txt is 0.5590094836670179\n",
      "The accuracy of model in graph MotifClique/cora_4_clique.txt is 0.6090621707060063\n",
      "The accuracy of model in graph MotifClique/cora_5_clique.txt is 0.5816649104320337\n",
      "The accuracy of model in graph MotifClique/cora_6_clique.txt is 0.6854583772391991\n",
      "The accuracy of model in graph MotifClique/cora_7_clique.txt is 0.6986301369863014\n",
      "The accuracy of model in graph MotifClique/football_3_clique.txt is 0.10588235294117647\n",
      "The accuracy of model in graph MotifClique/football_4_clique.txt is 0.2235294117647059\n",
      "The accuracy of model in graph MotifClique/football_5_clique.txt is 0.11764705882352941\n",
      "The accuracy of model in graph MotifClique/football_6_clique.txt is 0.11764705882352941\n",
      "The accuracy of model in graph MotifClique/football_7_clique.txt is 0.21176470588235294\n",
      "The accuracy of model in graph MotifClique/football_8_clique.txt is 0.32941176470588235\n",
      "The accuracy of model in graph MotifClique/karate_3_clique.txt is 0.96\n",
      "The accuracy of model in graph MotifClique/karate_5_clique.txt is 0.48\n",
      "The accuracy of model in graph MotifClique/karate_6_clique.txt is 0.52\n",
      "The accuracy of model in graph MotifClique/karate_7_clique.txt is 0.52\n",
      "The accuracy of model in graph MotifClique/karate_8_clique.txt is 0.52\n"
     ]
    }
   ],
   "source": [
    "all_motifs = glob.glob('MotifClique/*.txt')\n",
    "criterion = torch.nn.CrossEntropyLoss()\n",
    "for each in all_motifs:\n",
    "    file = each.split('/')[1].split('_')[0]\n",
    "    if \"c\" in file:\n",
    "        loader = DataLoad(file,True)\n",
    "    else:\n",
    "        loader = DataLoad(file)\n",
    "    out_file = each.split('.tx')[0] + '.pt'\n",
    "    model = GCN(loader)\n",
    "    edge_index = EdgeLoader(each)\n",
    "    optimizer = torch.optim.Adam(model.parameters(), lr=0.005)\n",
    "    for _ in tqdm(range(20)):\n",
    "        optimizer.zero_grad()  # Clear gradients.\n",
    "        out = model(loader.x, edge_index)  # Perform a single forward pass.\n",
    "        loss = criterion(out[loader.train_mask], loader.y[loader.train_mask])  # Compute the loss solely based on the training nodes.\n",
    "        loss.backward()  # Derive gradients.\n",
    "        optimizer.step()  # Update parameters based on gradients.\n",
    "        torch.save(model.state_dict(), out_file)    \n",
    "for each in all_motifs:\n",
    "    file = each.split('/')[1].split('_')[0]\n",
    "    if \"c\" in file:\n",
    "        loader = DataLoad(file,True)\n",
    "    else:\n",
    "        loader = DataLoad(file)\n",
    "    score = EvaluateModel(loader,each)\n",
    "    print('The accuracy of model in graph ' + each + ' is ' + str(score))"
   ]
  },
  {
   "cell_type": "code",
   "execution_count": 15,
   "metadata": {},
   "outputs": [
    {
     "name": "stderr",
     "output_type": "stream",
     "text": [
      "  0%|          | 0/50 [00:00<?, ?it/s]"
     ]
    },
    {
     "name": "stderr",
     "output_type": "stream",
     "text": [
      "100%|██████████| 50/50 [00:00<00:00, 116.36it/s]\n",
      "100%|██████████| 50/50 [00:00<00:00, 116.31it/s]\n",
      "100%|██████████| 50/50 [00:00<00:00, 116.30it/s]\n",
      "100%|██████████| 50/50 [00:00<00:00, 117.52it/s]\n",
      "100%|██████████| 50/50 [00:00<00:00, 118.19it/s]\n",
      "100%|██████████| 50/50 [00:00<00:00, 119.68it/s]\n",
      "100%|██████████| 50/50 [00:23<00:00,  2.16it/s]\n",
      "100%|██████████| 50/50 [00:18<00:00,  2.73it/s]\n",
      "100%|██████████| 50/50 [00:19<00:00,  2.55it/s]\n",
      "100%|██████████| 50/50 [00:20<00:00,  2.49it/s]\n",
      "100%|██████████| 50/50 [00:18<00:00,  2.73it/s]\n",
      "100%|██████████| 50/50 [00:07<00:00,  6.94it/s]\n",
      "100%|██████████| 50/50 [00:03<00:00, 15.06it/s]\n",
      "100%|██████████| 50/50 [00:04<00:00, 10.28it/s]\n",
      "100%|██████████| 50/50 [00:03<00:00, 13.76it/s]\n",
      "100%|██████████| 50/50 [00:03<00:00, 14.56it/s]\n",
      "100%|██████████| 50/50 [00:00<00:00, 93.91it/s]\n",
      "100%|██████████| 50/50 [00:00<00:00, 92.21it/s] \n",
      "100%|██████████| 50/50 [00:00<00:00, 95.67it/s]\n",
      "100%|██████████| 50/50 [00:00<00:00, 96.29it/s]\n",
      "100%|██████████| 50/50 [00:00<00:00, 92.89it/s] \n",
      "100%|██████████| 50/50 [00:00<00:00, 107.84it/s]\n",
      "100%|██████████| 50/50 [00:00<00:00, 138.83it/s]\n",
      "100%|██████████| 50/50 [00:00<00:00, 143.55it/s]\n",
      "100%|██████████| 50/50 [00:00<00:00, 140.26it/s]\n",
      "100%|██████████| 50/50 [00:00<00:00, 141.10it/s]\n",
      "100%|██████████| 50/50 [00:00<00:00, 138.36it/s]\n"
     ]
    },
    {
     "name": "stdout",
     "output_type": "stream",
     "text": [
      "The accuracy of model in graph MotifGap/book_3_gap.txt is 0.8289473684210527\n",
      "The accuracy of model in graph MotifGap/book_4_gap.txt is 0.8157894736842105\n",
      "The accuracy of model in graph MotifGap/book_5_gap.txt is 0.8552631578947368\n",
      "The accuracy of model in graph MotifGap/book_6_gap.txt is 0.8289473684210527\n",
      "The accuracy of model in graph MotifGap/book_7_gap.txt is 0.8289473684210527\n",
      "The accuracy of model in graph MotifGap/book_8_gap.txt is 0.8421052631578947\n",
      "The accuracy of model in graph MotifGap/citeseer_3_gap.txt is 0.6885456885456885\n",
      "The accuracy of model in graph MotifGap/citeseer_4_gap.txt is 0.6735306735306735\n",
      "The accuracy of model in graph MotifGap/citeseer_5_gap.txt is 0.682968682968683\n",
      "The accuracy of model in graph MotifGap/citeseer_6_gap.txt is 0.6640926640926641\n",
      "The accuracy of model in graph MotifGap/citeseer_7_gap.txt is 0.6803946803946804\n",
      "The accuracy of model in graph MotifGap/cora_3_gap.txt is 0.8224446786090621\n",
      "The accuracy of model in graph MotifGap/cora_4_gap.txt is 0.8345626975763962\n",
      "The accuracy of model in graph MotifGap/cora_5_gap.txt is 0.827186512118019\n",
      "The accuracy of model in graph MotifGap/cora_6_gap.txt is 0.8366701791359326\n",
      "The accuracy of model in graph MotifGap/cora_7_gap.txt is 0.8335089567966281\n",
      "The accuracy of model in graph MotifGap/football_3_gap.txt is 0.3411764705882353\n",
      "The accuracy of model in graph MotifGap/football_4_gap.txt is 0.8705882352941177\n",
      "The accuracy of model in graph MotifGap/football_5_gap.txt is 0.38823529411764707\n",
      "The accuracy of model in graph MotifGap/football_6_gap.txt is 0.2823529411764706\n",
      "The accuracy of model in graph MotifGap/football_7_gap.txt is 0.6352941176470588\n",
      "The accuracy of model in graph MotifGap/football_8_gap.txt is 0.7176470588235294\n",
      "The accuracy of model in graph MotifGap/karate_3_gap.txt is 1.0\n",
      "The accuracy of model in graph MotifGap/karate_5_gap.txt is 0.68\n",
      "The accuracy of model in graph MotifGap/karate_6_gap.txt is 1.0\n",
      "The accuracy of model in graph MotifGap/karate_7_gap.txt is 0.52\n",
      "The accuracy of model in graph MotifGap/karate_8_gap.txt is 1.0\n"
     ]
    }
   ],
   "source": [
    "all_motifs = glob.glob('MotifGap/*.txt')\n",
    "criterion = torch.nn.CrossEntropyLoss()\n",
    "for each in all_motifs:\n",
    "    file = each.split('/')[1].split('_')[0]\n",
    "    if \"c\" in file:\n",
    "        loader = DataLoad(file,True)\n",
    "    else:\n",
    "        loader = DataLoad(file)\n",
    "    out_file = each.split('.tx')[0] + '.pt'\n",
    "    model = GCN(loader)\n",
    "    edge_index = EdgeLoader(each)\n",
    "    optimizer = torch.optim.Adam(model.parameters(), lr=0.005)\n",
    "    for _ in tqdm(range(50)):\n",
    "        optimizer.zero_grad()  # Clear gradients.\n",
    "        out = model(loader.x, edge_index)  # Perform a single forward pass.\n",
    "        loss = criterion(out[loader.train_mask], loader.y[loader.train_mask])  # Compute the loss solely based on the training nodes.\n",
    "        loss.backward()  # Derive gradients.\n",
    "        optimizer.step()  # Update parameters based on gradients.\n",
    "        torch.save(model.state_dict(), out_file)    \n",
    "for each in all_motifs:\n",
    "    file = each.split('/')[1].split('_')[0]\n",
    "    if \"c\" in file:\n",
    "        loader = DataLoad(file,True)\n",
    "    else:\n",
    "        loader = DataLoad(file)\n",
    "    score = EvaluateModel(loader,each)\n",
    "    print('The accuracy of model in graph ' + each + ' is ' + str(score))"
   ]
  },
  {
   "cell_type": "code",
   "execution_count": 17,
   "metadata": {},
   "outputs": [
    {
     "name": "stderr",
     "output_type": "stream",
     "text": [
      "  0%|          | 0/50 [00:00<?, ?it/s]"
     ]
    },
    {
     "name": "stderr",
     "output_type": "stream",
     "text": [
      "100%|██████████| 50/50 [00:00<00:00, 117.42it/s]\n",
      "100%|██████████| 50/50 [00:00<00:00, 118.53it/s]\n",
      "100%|██████████| 50/50 [00:00<00:00, 119.35it/s]\n",
      "100%|██████████| 50/50 [00:00<00:00, 120.60it/s]\n",
      "100%|██████████| 50/50 [00:00<00:00, 118.44it/s]\n",
      "100%|██████████| 50/50 [00:00<00:00, 119.24it/s]\n",
      "100%|██████████| 50/50 [00:18<00:00,  2.71it/s]\n",
      "100%|██████████| 50/50 [00:18<00:00,  2.75it/s]\n",
      "100%|██████████| 50/50 [00:18<00:00,  2.75it/s]\n",
      "100%|██████████| 50/50 [00:18<00:00,  2.77it/s]\n",
      "100%|██████████| 50/50 [00:18<00:00,  2.78it/s]\n",
      "100%|██████████| 50/50 [00:03<00:00, 15.00it/s]\n",
      "100%|██████████| 50/50 [00:03<00:00, 15.15it/s]\n",
      "100%|██████████| 50/50 [00:03<00:00, 15.56it/s]\n",
      "100%|██████████| 50/50 [00:03<00:00, 15.20it/s]\n",
      "100%|██████████| 50/50 [00:03<00:00, 15.02it/s]\n",
      "100%|██████████| 50/50 [00:00<00:00, 98.41it/s] \n",
      "100%|██████████| 50/50 [00:00<00:00, 88.40it/s]\n",
      "100%|██████████| 50/50 [00:00<00:00, 103.76it/s]\n",
      "100%|██████████| 50/50 [00:00<00:00, 101.91it/s]\n",
      "100%|██████████| 50/50 [00:00<00:00, 100.72it/s]\n",
      "100%|██████████| 50/50 [00:00<00:00, 90.84it/s] \n",
      "100%|██████████| 50/50 [00:00<00:00, 134.52it/s]\n",
      "100%|██████████| 50/50 [00:00<00:00, 138.41it/s]\n",
      "100%|██████████| 50/50 [00:00<00:00, 136.46it/s]\n",
      "100%|██████████| 50/50 [00:00<00:00, 110.70it/s]\n",
      "100%|██████████| 50/50 [00:00<00:00, 136.41it/s]\n"
     ]
    },
    {
     "name": "stdout",
     "output_type": "stream",
     "text": [
      "The accuracy of model in graph MotifEE/book_3_gap.txt is 0.8421052631578947\n",
      "The accuracy of model in graph MotifEE/book_4_gap.txt is 0.8026315789473685\n",
      "The accuracy of model in graph MotifEE/book_5_gap.txt is 0.8289473684210527\n",
      "The accuracy of model in graph MotifEE/book_6_gap.txt is 0.8026315789473685\n",
      "The accuracy of model in graph MotifEE/book_7_gap.txt is 0.8421052631578947\n",
      "The accuracy of model in graph MotifEE/book_8_gap.txt is 0.8289473684210527\n",
      "The accuracy of model in graph MotifEE/citeseer_3_gap.txt is 0.6855426855426855\n",
      "The accuracy of model in graph MotifEE/citeseer_4_gap.txt is 0.6851136851136851\n",
      "The accuracy of model in graph MotifEE/citeseer_5_gap.txt is 0.6731016731016731\n",
      "The accuracy of model in graph MotifEE/citeseer_6_gap.txt is 0.6645216645216645\n",
      "The accuracy of model in graph MotifEE/citeseer_7_gap.txt is 0.6735306735306735\n",
      "The accuracy of model in graph MotifEE/cora_3_gap.txt is 0.8356164383561644\n",
      "The accuracy of model in graph MotifEE/cora_4_gap.txt is 0.8314014752370916\n",
      "The accuracy of model in graph MotifEE/cora_5_gap.txt is 0.839831401475237\n",
      "The accuracy of model in graph MotifEE/cora_6_gap.txt is 0.8377239199157007\n",
      "The accuracy of model in graph MotifEE/cora_7_gap.txt is 0.8203371970495258\n",
      "The accuracy of model in graph MotifEE/football_3_gap.txt is 0.8117647058823529\n",
      "The accuracy of model in graph MotifEE/football_4_gap.txt is 0.8470588235294118\n",
      "The accuracy of model in graph MotifEE/football_5_gap.txt is 0.7058823529411765\n",
      "The accuracy of model in graph MotifEE/football_6_gap.txt is 0.7529411764705882\n",
      "The accuracy of model in graph MotifEE/football_7_gap.txt is 0.7058823529411765\n",
      "The accuracy of model in graph MotifEE/football_8_gap.txt is 0.6941176470588235\n",
      "The accuracy of model in graph MotifEE/karate_3_gap.txt is 1.0\n",
      "The accuracy of model in graph MotifEE/karate_5_gap.txt is 0.68\n",
      "The accuracy of model in graph MotifEE/karate_6_gap.txt is 0.96\n",
      "The accuracy of model in graph MotifEE/karate_7_gap.txt is 1.0\n",
      "The accuracy of model in graph MotifEE/karate_8_gap.txt is 1.0\n"
     ]
    }
   ],
   "source": [
    "all_motifs = glob.glob('MotifEE/*.txt')\n",
    "criterion = torch.nn.CrossEntropyLoss()\n",
    "for each in all_motifs:\n",
    "    file = each.split('/')[1].split('_')[0]\n",
    "    if \"c\" in file:\n",
    "        loader = DataLoad(file,True)\n",
    "    else:\n",
    "        loader = DataLoad(file)\n",
    "    out_file = each.split('.tx')[0] + '.pt'\n",
    "    model = GCN(loader)\n",
    "    edge_index = EdgeLoader(each)\n",
    "    optimizer = torch.optim.Adam(model.parameters(), lr=0.005)\n",
    "    for _ in tqdm(range(50)):\n",
    "        optimizer.zero_grad()  # Clear gradients.\n",
    "        out = model(loader.x, edge_index)  # Perform a single forward pass.\n",
    "        loss = criterion(out[loader.train_mask], loader.y[loader.train_mask])  # Compute the loss solely based on the training nodes.\n",
    "        loss.backward()  # Derive gradients.\n",
    "        optimizer.step()  # Update parameters based on gradients.\n",
    "        torch.save(model.state_dict(), out_file)    \n",
    "for each in all_motifs:\n",
    "    file = each.split('/')[1].split('_')[0]\n",
    "    if \"c\" in file:\n",
    "        loader = DataLoad(file,True)\n",
    "    else:\n",
    "        loader = DataLoad(file)\n",
    "    score = EvaluateModel(loader,each)\n",
    "    print('The accuracy of model in graph ' + each + ' is ' + str(score))"
   ]
  },
  {
   "cell_type": "markdown",
   "metadata": {},
   "source": [
    "# Motif Orbit Test"
   ]
  },
  {
   "cell_type": "code",
   "execution_count": 17,
   "metadata": {},
   "outputs": [],
   "source": [
    "def GetMax(file):\n",
    "    with open(file,'r+') as fp:\n",
    "        lines = fp.readlines()\n",
    "    ret = []\n",
    "    for each in lines:\n",
    "        info = each.split(' ')\n",
    "        src = int(info[0])\n",
    "        dst = int(info[1])\n",
    "        ret.append(src)\n",
    "        ret.append(dst)\n",
    "    ret = max(ret)\n",
    "    return ret"
   ]
  },
  {
   "cell_type": "code",
   "execution_count": 19,
   "metadata": {},
   "outputs": [],
   "source": [
    "all_motifs = glob.glob('MotifOrbit/*.txt')\n",
    "criterion = torch.nn.CrossEntropyLoss()\n",
    "for each in all_motifs:\n",
    "    file = each.split('/')[1].split('_')[0]\n",
    "    loader = DataLoad(file)\n",
    "    out_file = each.split('.tx')[0] + '.pt'\n",
    "    model = GCN(loader)\n",
    "    edge_index = EdgeLoader(each)\n",
    "    m = GetMax(each) #Now we have the number of total nodes\n",
    "    m = m + 1 - loader.n_node #This is the number of motifs\n",
    "    loader.AppendDummy(m)\n",
    "    optimizer = torch.optim.Adam(model.parameters(), lr=0.005)\n",
    "    for _ in range(50):\n",
    "        optimizer.zero_grad()  # Clear gradients.\n",
    "        out = model(loader.x, edge_index)  # Perform a single forward pass.\n",
    "        loss = criterion(out[loader.train_mask], loader.y[loader.train_mask])  # Compute the loss solely based on the training nodes.\n",
    "        loss.backward()  # Derive gradients.\n",
    "        optimizer.step()  # Update parameters based on gradients.\n",
    "        torch.save(model.state_dict(), out_file)  "
   ]
  },
  {
   "cell_type": "code",
   "execution_count": 21,
   "metadata": {},
   "outputs": [
    {
     "name": "stdout",
     "output_type": "stream",
     "text": [
      "The accuracy of model in graph MotifOrbit/book_3_orbit.txt is 0.8421052631578947\n",
      "The accuracy of model in graph MotifOrbit/book_4_orbit.txt is 0.8421052631578947\n",
      "The accuracy of model in graph MotifOrbit/book_5_orbit.txt is 0.8421052631578947\n",
      "The accuracy of model in graph MotifOrbit/book_6_orbit.txt is 0.8421052631578947\n",
      "The accuracy of model in graph MotifOrbit/book_7_orbit.txt is 0.8421052631578947\n",
      "The accuracy of model in graph MotifOrbit/book_8_orbit.txt is 0.8421052631578947\n",
      "The accuracy of model in graph MotifOrbit/football_3_orbit.txt is 0.4823529411764706\n",
      "The accuracy of model in graph MotifOrbit/football_4_orbit.txt is 0.5764705882352941\n",
      "The accuracy of model in graph MotifOrbit/football_5_orbit.txt is 0.43529411764705883\n",
      "The accuracy of model in graph MotifOrbit/football_6_orbit.txt is 0.5294117647058824\n",
      "The accuracy of model in graph MotifOrbit/football_7_orbit.txt is 0.5882352941176471\n",
      "The accuracy of model in graph MotifOrbit/football_8_orbit.txt is 0.5529411764705883\n",
      "The accuracy of model in graph MotifOrbit/karate_3_orbit.txt is 1.0\n",
      "The accuracy of model in graph MotifOrbit/karate_5_orbit.txt is 0.52\n",
      "The accuracy of model in graph MotifOrbit/karate_6_orbit.txt is 0.88\n",
      "The accuracy of model in graph MotifOrbit/karate_7_orbit.txt is 0.96\n",
      "The accuracy of model in graph MotifOrbit/karate_8_orbit.txt is 0.96\n"
     ]
    }
   ],
   "source": [
    "for each in all_motifs:\n",
    "    file = each.split('/')[1].split('_')[0]\n",
    "    loader = DataLoad(file)\n",
    "    m = GetMax(each) #Now we have the number of total nodes\n",
    "    m = m + 1 - loader.n_node #This is the number of motifs\n",
    "    loader.AppendDummy(m)\n",
    "    score = EvaluateModel(loader,each)\n",
    "    print('The accuracy of model in graph ' + each + ' is ' + str(score))"
   ]
  },
  {
   "cell_type": "markdown",
   "metadata": {},
   "source": [
    "# Additional Task"
   ]
  },
  {
   "cell_type": "code",
   "execution_count": 16,
   "metadata": {},
   "outputs": [],
   "source": [
    "def TrainAllModel(file):\n",
    "    loader = DataLoad(file,True)\n",
    "    suffix = ['.mtx','_away.txt','_er.txt']\n",
    "    criterion = torch.nn.CrossEntropyLoss()\n",
    "    for each in suffix:\n",
    "        edge_file = file + each\n",
    "        out_file = edge_file.split('.')[0] + '.pt'\n",
    "        model = GCN(loader)\n",
    "        edge_index = EdgeLoader(edge_file)\n",
    "        optimizer = torch.optim.Adam(model.parameters(), lr=0.005)\n",
    "        for _ in range(20):\n",
    "            optimizer.zero_grad()  # Clear gradients.\n",
    "            out = model(loader.x, edge_index)  # Perform a single forward pass.\n",
    "            loss = criterion(out[loader.train_mask], loader.y[loader.train_mask])  # Compute the loss solely based on the training nodes.\n",
    "            loss.backward()  # Derive gradients.\n",
    "            optimizer.step()  # Update parameters based on gradients.\n",
    "            torch.save(model.state_dict(), out_file)    "
   ]
  },
  {
   "cell_type": "code",
   "execution_count": 17,
   "metadata": {},
   "outputs": [],
   "source": [
    "def TestAllModel(file):\n",
    "    loader = DataLoad(file,True)\n",
    "    suffix = ['.mtx','_away.txt','_er.txt']\n",
    "    for each in suffix:\n",
    "        edge_file = file + each\n",
    "        score = EvaluateModel(loader,edge_file)\n",
    "        print('The accuracy of model in graph ' + edge_file + ' is ' + str(score))"
   ]
  },
  {
   "cell_type": "code",
   "execution_count": 18,
   "metadata": {},
   "outputs": [],
   "source": [
    "def EvaluateModel(loader,edge_file):\n",
    "    model = GCN(loader)\n",
    "    edge_index = EdgeLoader(edge_file)\n",
    "    model_name = edge_file.split('.')[0] + '.pt'\n",
    "    model.load_state_dict(torch.load(model_name))\n",
    "    out = model(loader.x,edge_index).detach().numpy()\n",
    "    total = len(loader.test)\n",
    "    correct = 0\n",
    "    for each in loader.test:\n",
    "        idx = np.argmax(out[each])\n",
    "        if idx == loader.y[each]:\n",
    "            correct += 1\n",
    "    score = correct/total \n",
    "    return score"
   ]
  },
  {
   "cell_type": "code",
   "execution_count": 19,
   "metadata": {},
   "outputs": [],
   "source": [
    "def TrainAndTest(file):\n",
    "    TrainAllModel(file)\n",
    "    TestAllModel(file)"
   ]
  },
  {
   "cell_type": "code",
   "execution_count": 20,
   "metadata": {},
   "outputs": [
    {
     "name": "stdout",
     "output_type": "stream",
     "text": [
      "The accuracy of model in graph cora.mtx is 0.7038988408851422\n",
      "The accuracy of model in graph cora_away.txt is 0.702845100105374\n",
      "The accuracy of model in graph cora_er.txt is 0.6886195995785037\n"
     ]
    }
   ],
   "source": [
    "TrainAndTest('cora')"
   ]
  },
  {
   "cell_type": "code",
   "execution_count": 20,
   "metadata": {},
   "outputs": [
    {
     "name": "stdout",
     "output_type": "stream",
     "text": [
      "The accuracy of model in graph citeseer.mtx is 0.7284427284427284\n",
      "The accuracy of model in graph citeseer_away.txt is 0.7168597168597168\n",
      "The accuracy of model in graph citeseer_er.txt is 0.7185757185757186\n"
     ]
    }
   ],
   "source": [
    "TrainAndTest('citeseer')"
   ]
  },
  {
   "cell_type": "markdown",
   "metadata": {},
   "source": [
    "# Additional Motif Test"
   ]
  },
  {
   "cell_type": "code",
   "execution_count": 14,
   "metadata": {},
   "outputs": [
    {
     "name": "stderr",
     "output_type": "stream",
     "text": [
      "100%|██████████| 20/20 [01:07<00:00,  3.38s/it]\n",
      "100%|██████████| 20/20 [01:07<00:00,  3.37s/it]\n",
      "100%|██████████| 20/20 [01:08<00:00,  3.44s/it]\n",
      "100%|██████████| 20/20 [01:25<00:00,  4.30s/it]\n",
      "100%|██████████| 20/20 [01:06<00:00,  3.33s/it]\n",
      "100%|██████████| 20/20 [01:05<00:00,  3.26s/it]\n",
      "100%|██████████| 20/20 [01:09<00:00,  3.45s/it]\n",
      "100%|██████████| 20/20 [01:01<00:00,  3.08s/it]\n",
      "100%|██████████| 20/20 [01:04<00:00,  3.23s/it]\n",
      "100%|██████████| 20/20 [01:07<00:00,  3.39s/it]\n",
      "100%|██████████| 20/20 [01:09<00:00,  3.45s/it]\n",
      "100%|██████████| 20/20 [01:10<00:00,  3.50s/it]\n",
      "100%|██████████| 20/20 [01:08<00:00,  3.43s/it]\n",
      "100%|██████████| 20/20 [01:09<00:00,  3.50s/it]\n",
      "100%|██████████| 20/20 [01:10<00:00,  3.52s/it]\n",
      "100%|██████████| 20/20 [01:22<00:00,  4.14s/it]\n",
      "100%|██████████| 20/20 [01:07<00:00,  3.38s/it]\n",
      "100%|██████████| 20/20 [01:09<00:00,  3.50s/it]\n",
      "100%|██████████| 20/20 [01:08<00:00,  3.44s/it]\n",
      "100%|██████████| 20/20 [01:09<00:00,  3.46s/it]\n",
      "100%|██████████| 20/20 [01:01<00:00,  3.06s/it]\n",
      "100%|██████████| 20/20 [01:00<00:00,  3.02s/it]\n",
      "100%|██████████| 20/20 [00:58<00:00,  2.92s/it]\n",
      "100%|██████████| 20/20 [01:14<00:00,  3.73s/it]\n",
      "100%|██████████| 20/20 [01:01<00:00,  3.06s/it]\n",
      "100%|██████████| 20/20 [01:00<00:00,  3.03s/it]\n",
      "100%|██████████| 20/20 [01:14<00:00,  3.74s/it]\n",
      "100%|██████████| 20/20 [01:14<00:00,  3.72s/it]\n",
      "100%|██████████| 20/20 [01:01<00:00,  3.06s/it]\n",
      "100%|██████████| 20/20 [01:12<00:00,  3.64s/it]\n",
      "100%|██████████| 20/20 [01:11<00:00,  3.57s/it]\n",
      "100%|██████████| 20/20 [01:14<00:00,  3.70s/it]\n",
      "100%|██████████| 20/20 [01:01<00:00,  3.07s/it]\n",
      "100%|██████████| 20/20 [01:04<00:00,  3.22s/it]\n",
      "100%|██████████| 20/20 [01:03<00:00,  3.18s/it]\n",
      "100%|██████████| 20/20 [01:12<00:00,  3.63s/it]\n",
      "100%|██████████| 20/20 [01:01<00:00,  3.07s/it]\n",
      "100%|██████████| 20/20 [01:01<00:00,  3.06s/it]\n",
      "100%|██████████| 20/20 [01:03<00:00,  3.17s/it]\n",
      "100%|██████████| 20/20 [01:11<00:00,  3.59s/it]\n"
     ]
    }
   ],
   "source": [
    "from tqdm import tqdm\n",
    "all_motifs = glob.glob('MotifGraph/c*.txt')\n",
    "criterion = torch.nn.CrossEntropyLoss()\n",
    "for each in all_motifs:\n",
    "    file = each.split('/')[1].split('_')[0]\n",
    "    loader = DataLoad(file,True)\n",
    "    out_file = each.split('.tx')[0] + '_gcn.pt'\n",
    "    model = GCN(loader)\n",
    "    edge_index = EdgeLoader(each)\n",
    "    optimizer = torch.optim.Adam(model.parameters(), lr=0.005)\n",
    "    for _ in tqdm(range(20)):\n",
    "        optimizer.zero_grad()  # Clear gradients.\n",
    "        out = model(loader.x, edge_index)  # Perform a single forward pass.\n",
    "        loss = criterion(out[loader.train_mask], loader.y[loader.train_mask])  # Compute the loss solely based on the training nodes.\n",
    "        loss.backward()  # Derive gradients.\n",
    "        optimizer.step()  # Update parameters based on gradients.\n",
    "        torch.save(model.state_dict(), out_file)    "
   ]
  },
  {
   "cell_type": "code",
   "execution_count": 16,
   "metadata": {},
   "outputs": [],
   "source": [
    "from tqdm import tqdm\n",
    "def EvaluateModel(loader,edge_file):\n",
    "    model = GCN(loader)\n",
    "    edge_index = EdgeLoader(edge_file)\n",
    "    model_name = edge_file.split('.tx')[0] + '_gcn.pt'\n",
    "    model.load_state_dict(torch.load(model_name))\n",
    "    out = model(loader.x,edge_index).detach().numpy()\n",
    "    total = len(loader.test)\n",
    "    correct = 0\n",
    "    for each in loader.test:\n",
    "        idx = np.argmax(out[each])\n",
    "        if idx == loader.y[each]:\n",
    "            correct += 1\n",
    "    score = correct/total \n",
    "    return score"
   ]
  },
  {
   "cell_type": "code",
   "execution_count": 16,
   "metadata": {},
   "outputs": [
    {
     "name": "stdout",
     "output_type": "stream",
     "text": [
      "The accuracy of model in graph MotifGraph/citeseer_3_motif_0.2.txt is 0.7044187044187045\n",
      "The accuracy of model in graph MotifGraph/citeseer_3_motif_0.4.txt is 0.7211497211497212\n",
      "The accuracy of model in graph MotifGraph/citeseer_3_motif_0.6.txt is 0.7035607035607035\n",
      "The accuracy of model in graph MotifGraph/citeseer_3_motif_0.8.txt is 0.7254397254397255\n",
      "The accuracy of model in graph MotifGraph/citeseer_4_motif_0.2.txt is 0.6954096954096954\n",
      "The accuracy of model in graph MotifGraph/citeseer_4_motif_0.4.txt is 0.6928356928356928\n",
      "The accuracy of model in graph MotifGraph/citeseer_4_motif_0.6.txt is 0.7001287001287001\n",
      "The accuracy of model in graph MotifGraph/citeseer_4_motif_0.8.txt is 0.6958386958386958\n",
      "The accuracy of model in graph MotifGraph/citeseer_5_motif_0.2.txt is 0.6495066495066495\n",
      "The accuracy of model in graph MotifGraph/citeseer_5_motif_0.4.txt is 0.6628056628056628\n",
      "The accuracy of model in graph MotifGraph/citeseer_5_motif_0.6.txt is 0.6615186615186616\n",
      "The accuracy of model in graph MotifGraph/citeseer_5_motif_0.8.txt is 0.6915486915486916\n",
      "The accuracy of model in graph MotifGraph/citeseer_6_motif_0.2.txt is 0.6495066495066495\n",
      "The accuracy of model in graph MotifGraph/citeseer_6_motif_0.4.txt is 0.6580866580866581\n",
      "The accuracy of model in graph MotifGraph/citeseer_6_motif_0.6.txt is 0.6503646503646504\n",
      "The accuracy of model in graph MotifGraph/citeseer_6_motif_0.8.txt is 0.6864006864006864\n",
      "The accuracy of model in graph MotifGraph/citeseer_7_motif_0.2.txt is 0.6846846846846847\n",
      "The accuracy of model in graph MotifGraph/citeseer_7_motif_0.4.txt is 0.6756756756756757\n",
      "The accuracy of model in graph MotifGraph/citeseer_7_motif_0.6.txt is 0.6743886743886743\n",
      "The accuracy of model in graph MotifGraph/citeseer_7_motif_0.8.txt is 0.6675246675246675\n",
      "The accuracy of model in graph MotifGraph/cora_3_motif_0.2.txt is 0.6865121180189674\n",
      "The accuracy of model in graph MotifGraph/cora_3_motif_0.4.txt is 0.6227608008429927\n",
      "The accuracy of model in graph MotifGraph/cora_3_motif_0.6.txt is 0.5937829293993677\n",
      "The accuracy of model in graph MotifGraph/cora_3_motif_0.8.txt is 0.5569020021074815\n",
      "The accuracy of model in graph MotifGraph/cora_4_motif_0.2.txt is 0.7091675447839831\n",
      "The accuracy of model in graph MotifGraph/cora_4_motif_0.4.txt is 0.6343519494204426\n",
      "The accuracy of model in graph MotifGraph/cora_4_motif_0.6.txt is 0.5842992623814541\n",
      "The accuracy of model in graph MotifGraph/cora_4_motif_0.8.txt is 0.5590094836670179\n",
      "The accuracy of model in graph MotifGraph/cora_5_motif_0.2.txt is 0.7033719704952581\n",
      "The accuracy of model in graph MotifGraph/cora_5_motif_0.4.txt is 0.7565858798735511\n",
      "The accuracy of model in graph MotifGraph/cora_5_motif_0.6.txt is 0.6591148577449948\n",
      "The accuracy of model in graph MotifGraph/cora_5_motif_0.8.txt is 0.6195995785036881\n",
      "The accuracy of model in graph MotifGraph/cora_6_motif_0.2.txt is 0.6375131717597471\n",
      "The accuracy of model in graph MotifGraph/cora_6_motif_0.4.txt is 0.6991570073761855\n",
      "The accuracy of model in graph MotifGraph/cora_6_motif_0.6.txt is 0.6991570073761855\n",
      "The accuracy of model in graph MotifGraph/cora_6_motif_0.8.txt is 0.6707060063224447\n",
      "The accuracy of model in graph MotifGraph/cora_7_motif_0.2.txt is 0.6801896733403583\n",
      "The accuracy of model in graph MotifGraph/cora_7_motif_0.4.txt is 0.5948366701791359\n",
      "The accuracy of model in graph MotifGraph/cora_7_motif_0.6.txt is 0.6975763962065332\n",
      "The accuracy of model in graph MotifGraph/cora_7_motif_0.8.txt is 0.6506849315068494\n"
     ]
    }
   ],
   "source": [
    "for each in all_motifs:\n",
    "    file = each.split('/')[1].split('_')[0]\n",
    "    loader = DataLoad(file,True)\n",
    "    score = EvaluateModel(loader,each)\n",
    "    print('The accuracy of model in graph ' + each + ' is ' + str(score))"
   ]
  },
  {
   "cell_type": "code",
   "execution_count": 17,
   "metadata": {},
   "outputs": [
    {
     "name": "stderr",
     "output_type": "stream",
     "text": [
      "100%|██████████| 20/20 [01:07<00:00,  3.39s/it]\n",
      "100%|██████████| 20/20 [01:07<00:00,  3.38s/it]\n",
      "100%|██████████| 20/20 [01:07<00:00,  3.35s/it]\n",
      "100%|██████████| 20/20 [01:10<00:00,  3.51s/it]\n",
      "100%|██████████| 20/20 [01:08<00:00,  3.44s/it]\n",
      "100%|██████████| 20/20 [01:07<00:00,  3.40s/it]\n",
      "100%|██████████| 20/20 [01:06<00:00,  3.35s/it]\n",
      "100%|██████████| 20/20 [01:09<00:00,  3.48s/it]\n",
      "100%|██████████| 20/20 [01:11<00:00,  3.55s/it]\n",
      "100%|██████████| 20/20 [01:00<00:00,  3.05s/it]\n",
      "100%|██████████| 20/20 [01:03<00:00,  3.18s/it]\n",
      "100%|██████████| 20/20 [01:04<00:00,  3.20s/it]\n",
      "100%|██████████| 20/20 [01:07<00:00,  3.35s/it]\n",
      "100%|██████████| 20/20 [01:03<00:00,  3.18s/it]\n",
      "100%|██████████| 20/20 [01:04<00:00,  3.21s/it]\n",
      "100%|██████████| 20/20 [01:07<00:00,  3.37s/it]\n",
      "100%|██████████| 20/20 [01:06<00:00,  3.32s/it]\n",
      "100%|██████████| 20/20 [01:09<00:00,  3.49s/it]\n",
      "100%|██████████| 20/20 [01:08<00:00,  3.43s/it]\n",
      "100%|██████████| 20/20 [01:10<00:00,  3.52s/it]\n",
      "100%|██████████| 20/20 [01:08<00:00,  3.43s/it]\n",
      "100%|██████████| 20/20 [01:01<00:00,  3.07s/it]\n",
      "100%|██████████| 20/20 [01:02<00:00,  3.10s/it]\n",
      "100%|██████████| 20/20 [01:01<00:00,  3.06s/it]\n",
      "100%|██████████| 20/20 [01:01<00:00,  3.09s/it]\n",
      "100%|██████████| 20/20 [01:01<00:00,  3.08s/it]\n",
      "100%|██████████| 20/20 [01:01<00:00,  3.08s/it]\n",
      "100%|██████████| 20/20 [01:01<00:00,  3.08s/it]\n",
      "100%|██████████| 20/20 [01:02<00:00,  3.10s/it]\n",
      "100%|██████████| 20/20 [01:01<00:00,  3.07s/it]\n",
      "100%|██████████| 20/20 [01:00<00:00,  3.03s/it]\n",
      "100%|██████████| 20/20 [01:00<00:00,  3.04s/it]\n",
      "100%|██████████| 20/20 [01:02<00:00,  3.12s/it]\n",
      "100%|██████████| 20/20 [01:01<00:00,  3.08s/it]\n",
      "100%|██████████| 20/20 [01:00<00:00,  3.03s/it]\n",
      "100%|██████████| 20/20 [01:01<00:00,  3.09s/it]\n",
      "100%|██████████| 20/20 [01:01<00:00,  3.07s/it]\n",
      "100%|██████████| 20/20 [01:01<00:00,  3.08s/it]\n",
      "100%|██████████| 20/20 [01:01<00:00,  3.06s/it]\n",
      "100%|██████████| 20/20 [01:02<00:00,  3.11s/it]\n"
     ]
    },
    {
     "name": "stdout",
     "output_type": "stream",
     "text": [
      "The accuracy of model in graph MotifER/citeseer_3_erds_0.2.txt is 0.7138567138567139\n",
      "The accuracy of model in graph MotifER/citeseer_3_erds_0.4.txt is 0.7125697125697126\n",
      "The accuracy of model in graph MotifER/citeseer_3_erds_0.6.txt is 0.716001716001716\n",
      "The accuracy of model in graph MotifER/citeseer_3_erds_0.8.txt is 0.7198627198627199\n",
      "The accuracy of model in graph MotifER/citeseer_4_erds_0.2.txt is 0.6902616902616903\n",
      "The accuracy of model in graph MotifER/citeseer_4_erds_0.4.txt is 0.6795366795366795\n",
      "The accuracy of model in graph MotifER/citeseer_4_erds_0.6.txt is 0.7005577005577005\n",
      "The accuracy of model in graph MotifER/citeseer_4_erds_0.8.txt is 0.6833976833976834\n",
      "The accuracy of model in graph MotifER/citeseer_5_erds_0.2.txt is 0.6924066924066924\n",
      "The accuracy of model in graph MotifER/cora_3_erds_0.2.txt is 0.6765015806111696\n",
      "The accuracy of model in graph MotifER/citeseer_5_erds_0.4.txt is 0.6872586872586872\n",
      "The accuracy of model in graph MotifER/citeseer_5_erds_0.6.txt is 0.7022737022737022\n",
      "The accuracy of model in graph MotifER/citeseer_5_erds_0.8.txt is 0.6971256971256972\n",
      "The accuracy of model in graph MotifER/citeseer_6_erds_0.2.txt is 0.694980694980695\n",
      "The accuracy of model in graph MotifER/citeseer_6_erds_0.4.txt is 0.6958386958386958\n",
      "The accuracy of model in graph MotifER/citeseer_6_erds_0.6.txt is 0.6966966966966966\n",
      "The accuracy of model in graph MotifER/citeseer_6_erds_0.8.txt is 0.6902616902616903\n",
      "The accuracy of model in graph MotifER/citeseer_7_erds_0.2.txt is 0.6855426855426855\n",
      "The accuracy of model in graph MotifER/citeseer_7_erds_0.4.txt is 0.6872586872586872\n",
      "The accuracy of model in graph MotifER/citeseer_7_erds_0.6.txt is 0.6924066924066924\n",
      "The accuracy of model in graph MotifER/citeseer_7_erds_0.8.txt is 0.6962676962676962\n",
      "The accuracy of model in graph MotifER/cora_3_erds_0.4.txt is 0.6933614330874605\n",
      "The accuracy of model in graph MotifER/cora_3_erds_0.6.txt is 0.7091675447839831\n",
      "The accuracy of model in graph MotifER/cora_3_erds_0.8.txt is 0.6570073761854583\n",
      "The accuracy of model in graph MotifER/cora_4_erds_0.2.txt is 0.6412012644889358\n",
      "The accuracy of model in graph MotifER/cora_4_erds_0.4.txt is 0.7207586933614331\n",
      "The accuracy of model in graph MotifER/cora_4_erds_0.6.txt is 0.7007376185458377\n",
      "The accuracy of model in graph MotifER/cora_4_erds_0.8.txt is 0.7297154899894626\n",
      "The accuracy of model in graph MotifER/cora_5_erds_0.2.txt is 0.6612223393045311\n",
      "The accuracy of model in graph MotifER/cora_5_erds_0.4.txt is 0.6975763962065332\n",
      "The accuracy of model in graph MotifER/cora_5_erds_0.6.txt is 0.6981032665964173\n",
      "The accuracy of model in graph MotifER/cora_5_erds_0.8.txt is 0.6253951527924131\n",
      "The accuracy of model in graph MotifER/cora_6_erds_0.2.txt is 0.6912539515279241\n",
      "The accuracy of model in graph MotifER/cora_6_erds_0.4.txt is 0.7065331928345627\n",
      "The accuracy of model in graph MotifER/cora_6_erds_0.6.txt is 0.6801896733403583\n",
      "The accuracy of model in graph MotifER/cora_6_erds_0.8.txt is 0.7102212855637513\n",
      "The accuracy of model in graph MotifER/cora_7_erds_0.2.txt is 0.6738672286617492\n",
      "The accuracy of model in graph MotifER/cora_7_erds_0.4.txt is 0.6101159114857745\n",
      "The accuracy of model in graph MotifER/cora_7_erds_0.6.txt is 0.702845100105374\n",
      "The accuracy of model in graph MotifER/cora_7_erds_0.8.txt is 0.6875658587987356\n"
     ]
    }
   ],
   "source": [
    "all_motifs = glob.glob('MotifER/c*.txt')\n",
    "criterion = torch.nn.CrossEntropyLoss()\n",
    "for each in all_motifs:\n",
    "    file = each.split('/')[1].split('_')[0]\n",
    "    loader = DataLoad(file,True)\n",
    "    out_file = each.split('.tx')[0] + '_gcn.pt'\n",
    "    model = GCN(loader)\n",
    "    edge_index = EdgeLoader(each)\n",
    "    optimizer = torch.optim.Adam(model.parameters(), lr=0.005)\n",
    "    for _ in tqdm(range(20)):\n",
    "        optimizer.zero_grad()  # Clear gradients.\n",
    "        out = model(loader.x, edge_index)  # Perform a single forward pass.\n",
    "        loss = criterion(out[loader.train_mask], loader.y[loader.train_mask])  # Compute the loss solely based on the training nodes.\n",
    "        loss.backward()  # Derive gradients.\n",
    "        optimizer.step()  # Update parameters based on gradients.\n",
    "        torch.save(model.state_dict(), out_file)    \n",
    "\n",
    "for each in all_motifs:\n",
    "    file = each.split('/')[1].split('_')[0]\n",
    "    loader = DataLoad(file,True)\n",
    "    score = EvaluateModel(loader,each)\n",
    "    print('The accuracy of model in graph ' + each + ' is ' + str(score))"
   ]
  },
  {
   "cell_type": "code",
   "execution_count": null,
   "metadata": {},
   "outputs": [],
   "source": [
    "all_motifs = glob.glob('MotifOrbit/cora*.txt')\n",
    "criterion = torch.nn.CrossEntropyLoss()\n",
    "for each in all_motifs:\n",
    "    file = each.split('/')[1].split('_')[0]\n",
    "    loader = DataLoad(file)\n",
    "    out_file = each.split('.tx')[0] + '_gcn.pt'\n",
    "    model = GCN(loader)\n",
    "    edge_index = EdgeLoader(each)\n",
    "    m = GetMax(each) #Now we have the number of total nodes\n",
    "    m = m + 1 - loader.n_node #This is the number of motifs\n",
    "    loader.AppendDummy(m)\n",
    "    optimizer = torch.optim.Adam(model.parameters(), lr=0.005)\n",
    "    for _ in range(50):\n",
    "        optimizer.zero_grad()  # Clear gradients.\n",
    "        out = model(loader.x, edge_index)  # Perform a single forward pass.\n",
    "        loss = criterion(out[loader.train_mask], loader.y[loader.train_mask])  # Compute the loss solely based on the training nodes.\n",
    "        loss.backward()  # Derive gradients.\n",
    "        optimizer.step()  # Update parameters based on gradients.\n",
    "        torch.save(model.state_dict(), out_file)  \n",
    "for each in all_motifs:\n",
    "    file = each.split('/')[1].split('_')[0]\n",
    "    loader = DataLoad(file)\n",
    "    m = GetMax(each) #Now we have the number of total nodes\n",
    "    m = m + 1 - loader.n_node #This is the number of motifs\n",
    "    loader.AppendDummy(m)\n",
    "    score = EvaluateModel(loader,each)\n",
    "    print('The accuracy of model in graph ' + each + ' is ' + str(score))\n"
   ]
  },
  {
   "cell_type": "code",
   "execution_count": null,
   "metadata": {},
   "outputs": [],
   "source": [
    "def GetMax(file):\n",
    "    with open(file,'r+') as fp:\n",
    "        lines = fp.readlines()\n",
    "    ret = []\n",
    "    for each in lines:\n",
    "        info = each.split(' ')\n",
    "        src = int(info[0])\n",
    "        dst = int(info[1])\n",
    "        ret.append(src)\n",
    "        ret.append(dst)\n",
    "    ret = max(ret)\n",
    "    return ret"
   ]
  }
 ],
 "metadata": {
  "kernelspec": {
   "display_name": "Python 3 (ipykernel)",
   "language": "python",
   "name": "python3"
  },
  "language_info": {
   "codemirror_mode": {
    "name": "ipython",
    "version": 3
   },
   "file_extension": ".py",
   "mimetype": "text/x-python",
   "name": "python",
   "nbconvert_exporter": "python",
   "pygments_lexer": "ipython3",
   "version": "3.11.9"
  }
 },
 "nbformat": 4,
 "nbformat_minor": 4
}
